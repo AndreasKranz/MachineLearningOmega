{
 "cells": [
  {
   "cell_type": "markdown",
   "metadata": {
    "id": "cbxxfBLxJZqR"
   },
   "source": [
    "## Import tab separated data"
   ]
  },
  {
   "cell_type": "code",
   "execution_count": 8,
   "outputs": [],
   "source": [
    "import pandas as pd\n",
    "from sklearn.metrics import auc, accuracy_score\n",
    "import xgboost as xgb"
   ],
   "metadata": {
    "collapsed": false
   }
  },
  {
   "cell_type": "code",
   "execution_count": 2,
   "metadata": {
    "id": "gxPWX5PIJZqU"
   },
   "outputs": [],
   "source": [
    "data = pd.read_csv(\"finalDataSet.csv\")"
   ]
  },
  {
   "cell_type": "code",
   "execution_count": 3,
   "metadata": {
    "colab": {
     "base_uri": "https://localhost:8080/",
     "height": 299
    },
    "id": "g-UWZBpOJZqV",
    "outputId": "fd658d3e-d8c3-4172-b71e-51372a8e186e"
   },
   "outputs": [
    {
     "data": {
      "text/plain": "   Education    Income  Kidhome  Marital_Status  NumDealsPurchases  Recency  \\\n0          2  0.288658        0               0                  3       58   \n1          2 -0.262293        1               0                  2       38   \n2          2  0.918137        0               2                  1       26   \n3          2 -1.182477        1               2                  2       26   \n4          4  0.295899        1               3                  5       94   \n\n   Teenhome  Year_Birth  Succesful_cmp  Months_After_2012  \n0         0        1957              0                  9  \n1         1        1954              0                 27  \n2         0        1965              0                 20  \n3         0        1984              0                 26  \n4         0        1981              0                 25  ",
      "text/html": "<div>\n<style scoped>\n    .dataframe tbody tr th:only-of-type {\n        vertical-align: middle;\n    }\n\n    .dataframe tbody tr th {\n        vertical-align: top;\n    }\n\n    .dataframe thead th {\n        text-align: right;\n    }\n</style>\n<table border=\"1\" class=\"dataframe\">\n  <thead>\n    <tr style=\"text-align: right;\">\n      <th></th>\n      <th>Education</th>\n      <th>Income</th>\n      <th>Kidhome</th>\n      <th>Marital_Status</th>\n      <th>NumDealsPurchases</th>\n      <th>Recency</th>\n      <th>Teenhome</th>\n      <th>Year_Birth</th>\n      <th>Succesful_cmp</th>\n      <th>Months_After_2012</th>\n    </tr>\n  </thead>\n  <tbody>\n    <tr>\n      <th>0</th>\n      <td>2</td>\n      <td>0.288658</td>\n      <td>0</td>\n      <td>0</td>\n      <td>3</td>\n      <td>58</td>\n      <td>0</td>\n      <td>1957</td>\n      <td>0</td>\n      <td>9</td>\n    </tr>\n    <tr>\n      <th>1</th>\n      <td>2</td>\n      <td>-0.262293</td>\n      <td>1</td>\n      <td>0</td>\n      <td>2</td>\n      <td>38</td>\n      <td>1</td>\n      <td>1954</td>\n      <td>0</td>\n      <td>27</td>\n    </tr>\n    <tr>\n      <th>2</th>\n      <td>2</td>\n      <td>0.918137</td>\n      <td>0</td>\n      <td>2</td>\n      <td>1</td>\n      <td>26</td>\n      <td>0</td>\n      <td>1965</td>\n      <td>0</td>\n      <td>20</td>\n    </tr>\n    <tr>\n      <th>3</th>\n      <td>2</td>\n      <td>-1.182477</td>\n      <td>1</td>\n      <td>2</td>\n      <td>2</td>\n      <td>26</td>\n      <td>0</td>\n      <td>1984</td>\n      <td>0</td>\n      <td>26</td>\n    </tr>\n    <tr>\n      <th>4</th>\n      <td>4</td>\n      <td>0.295899</td>\n      <td>1</td>\n      <td>3</td>\n      <td>5</td>\n      <td>94</td>\n      <td>0</td>\n      <td>1981</td>\n      <td>0</td>\n      <td>25</td>\n    </tr>\n  </tbody>\n</table>\n</div>"
     },
     "execution_count": 3,
     "metadata": {},
     "output_type": "execute_result"
    }
   ],
   "source": [
    "data.head()"
   ]
  },
  {
   "cell_type": "markdown",
   "metadata": {
    "id": "ZDOLQw0zJZqW"
   },
   "source": [
    "Classic Model"
   ]
  },
  {
   "cell_type": "code",
   "execution_count": 4,
   "outputs": [],
   "source": [
    "X=data[['Education', 'Income', 'Kidhome', 'Marital_Status','NumDealsPurchases','Recency', 'Teenhome', 'Year_Birth', 'Months_After_2012']]\n",
    "y=data['Succesful_cmp']"
   ],
   "metadata": {
    "collapsed": false
   }
  },
  {
   "cell_type": "code",
   "execution_count": 6,
   "outputs": [],
   "source": [
    "from sklearn.model_selection import train_test_split\n",
    "\n",
    "X_train, X_test, y_train, y_test = train_test_split(\n",
    "    X, y, test_size=0.2, random_state=1)"
   ],
   "metadata": {
    "collapsed": false
   }
  },
  {
   "cell_type": "code",
   "execution_count": 9,
   "outputs": [
    {
     "name": "stdout",
     "output_type": "stream",
     "text": [
      "Accuracy: 82.59%\n"
     ]
    }
   ],
   "source": [
    "xgb_model = xgb.XGBClassifier(colsample_bytree=0.7, grow_policy=\"lossguide\", max_bin=255, max_depth=6, objective=\"reg:logistic\", n_estimators=100, reg_lambda=1.875, tree_method=\"hist\")\n",
    "\n",
    "xgb_model.fit(X_train, y_train)\n",
    "\n",
    "y_pred = xgb_model.predict(X_test)\n",
    "accuracy = accuracy_score(y_test, y_pred)\n",
    "print(\"Accuracy: %.2f%%\" % (accuracy * 100.0))"
   ],
   "metadata": {
    "collapsed": false
   }
  },
  {
   "cell_type": "code",
   "execution_count": 14,
   "outputs": [
    {
     "name": "stdout",
     "output_type": "stream",
     "text": [
      "F1-Score: 0.7885061801373722\n",
      "log_loss: 0.7586930014444988\n",
      "AUC: 0.7955986958550166\n"
     ]
    }
   ],
   "source": [
    "from sklearn.metrics import log_loss, roc_auc_score, f1_score\n",
    "predP = xgb_model.predict_proba(X_test)\n",
    "\n",
    "print(\"F1-Score:\", f1_score(y_test, y_pred, average='weighted'))\n",
    "print(\"log_loss:\",log_loss(y_test, predP))\n",
    "print(\"AUC:\",roc_auc_score(y_test, predP, multi_class=\"ovr\"))"
   ],
   "metadata": {
    "collapsed": false
   }
  },
  {
   "cell_type": "code",
   "execution_count": 15,
   "outputs": [
    {
     "name": "stdout",
     "output_type": "stream",
     "text": [
      "[[353   3   0   1   3   2]\n",
      " [ 24   8   0   0   0   2]\n",
      " [  1   0   1   0   0   0]\n",
      " [ 22   0   0   5   0   1]\n",
      " [ 11   0   0   0   2   0]\n",
      " [  7   0   0   0   1   1]]\n",
      "              precision    recall  f1-score   support\n",
      "\n",
      "           0       0.84      0.98      0.91       362\n",
      "           1       0.73      0.24      0.36        34\n",
      "           2       1.00      0.50      0.67         2\n",
      "           3       0.83      0.18      0.29        28\n",
      "           4       0.33      0.15      0.21        13\n",
      "           5       0.17      0.11      0.13         9\n",
      "\n",
      "    accuracy                           0.83       448\n",
      "   macro avg       0.65      0.36      0.43       448\n",
      "weighted avg       0.81      0.83      0.79       448\n",
      "\n"
     ]
    }
   ],
   "source": [
    "from sklearn.metrics import classification_report,confusion_matrix\n",
    "print(confusion_matrix(y_test,y_pred))\n",
    "print(classification_report(y_test,y_pred))"
   ],
   "metadata": {
    "collapsed": false
   }
  },
  {
   "cell_type": "markdown",
   "source": [
    "Oversampled  Model"
   ],
   "metadata": {
    "collapsed": false
   }
  },
  {
   "cell_type": "code",
   "execution_count": 16,
   "outputs": [],
   "source": [
    "testSet = pd.read_csv(\"test_set.csv\")\n",
    "train_oversampled = pd.read_csv(\"train_oversampled.csv\")"
   ],
   "metadata": {
    "collapsed": false
   }
  },
  {
   "cell_type": "code",
   "execution_count": 152,
   "outputs": [
    {
     "data": {
      "text/plain": "   Education    Income  Kidhome  Marital_Status  NumDealsPurchases  Recency  \\\n0          3 -1.742351        0               2                  1       88   \n1          3 -1.626359        1               2                  5       96   \n2          2  0.869227        0               0                  2        4   \n3          4  0.468883        0               3                  3       27   \n4          4  0.030607        0               0                  2       63   \n\n   Teenhome  Year_Birth  Months_After_2012  Succesful_cmp  \n0         0        1956                 13              0  \n1         1        1960                 26              0  \n2         1        1968                 22              0  \n3         1        1977                 13              1  \n4         1        1975                 12              0  ",
      "text/html": "<div>\n<style scoped>\n    .dataframe tbody tr th:only-of-type {\n        vertical-align: middle;\n    }\n\n    .dataframe tbody tr th {\n        vertical-align: top;\n    }\n\n    .dataframe thead th {\n        text-align: right;\n    }\n</style>\n<table border=\"1\" class=\"dataframe\">\n  <thead>\n    <tr style=\"text-align: right;\">\n      <th></th>\n      <th>Education</th>\n      <th>Income</th>\n      <th>Kidhome</th>\n      <th>Marital_Status</th>\n      <th>NumDealsPurchases</th>\n      <th>Recency</th>\n      <th>Teenhome</th>\n      <th>Year_Birth</th>\n      <th>Months_After_2012</th>\n      <th>Succesful_cmp</th>\n    </tr>\n  </thead>\n  <tbody>\n    <tr>\n      <th>0</th>\n      <td>3</td>\n      <td>-1.742351</td>\n      <td>0</td>\n      <td>2</td>\n      <td>1</td>\n      <td>88</td>\n      <td>0</td>\n      <td>1956</td>\n      <td>13</td>\n      <td>0</td>\n    </tr>\n    <tr>\n      <th>1</th>\n      <td>3</td>\n      <td>-1.626359</td>\n      <td>1</td>\n      <td>2</td>\n      <td>5</td>\n      <td>96</td>\n      <td>1</td>\n      <td>1960</td>\n      <td>26</td>\n      <td>0</td>\n    </tr>\n    <tr>\n      <th>2</th>\n      <td>2</td>\n      <td>0.869227</td>\n      <td>0</td>\n      <td>0</td>\n      <td>2</td>\n      <td>4</td>\n      <td>1</td>\n      <td>1968</td>\n      <td>22</td>\n      <td>0</td>\n    </tr>\n    <tr>\n      <th>3</th>\n      <td>4</td>\n      <td>0.468883</td>\n      <td>0</td>\n      <td>3</td>\n      <td>3</td>\n      <td>27</td>\n      <td>1</td>\n      <td>1977</td>\n      <td>13</td>\n      <td>1</td>\n    </tr>\n    <tr>\n      <th>4</th>\n      <td>4</td>\n      <td>0.030607</td>\n      <td>0</td>\n      <td>0</td>\n      <td>2</td>\n      <td>63</td>\n      <td>1</td>\n      <td>1975</td>\n      <td>12</td>\n      <td>0</td>\n    </tr>\n  </tbody>\n</table>\n</div>"
     },
     "execution_count": 152,
     "metadata": {},
     "output_type": "execute_result"
    }
   ],
   "source": [
    "testSet.head()"
   ],
   "metadata": {
    "collapsed": false
   }
  },
  {
   "cell_type": "code",
   "execution_count": 17,
   "outputs": [],
   "source": [
    "X_train_oversampled=train_oversampled[['Education', 'Income', 'Kidhome', 'Marital_Status','NumDealsPurchases','Recency', 'Teenhome', 'Year_Birth', 'Months_After_2012']]\n",
    "\n",
    "y_train_oversampled=train_oversampled['Succesful_cmp']\n",
    "\n",
    "X_testSet=testSet[['Education', 'Income', 'Kidhome', 'Marital_Status','NumDealsPurchases','Recency', 'Teenhome', 'Year_Birth', 'Months_After_2012']]\n",
    "\n",
    "y_testSet=testSet['Succesful_cmp']"
   ],
   "metadata": {
    "collapsed": false
   }
  },
  {
   "cell_type": "code",
   "execution_count": 18,
   "outputs": [
    {
     "name": "stdout",
     "output_type": "stream",
     "text": [
      "Accuracy: 68.97%\n"
     ]
    }
   ],
   "source": [
    "xgb_model = xgb.XGBClassifier(colsample_bytree=0.7, grow_policy=\"lossguide\", max_bin=255, max_depth=6, objective=\"reg:logistic\", n_estimators=100, reg_lambda=1.875, tree_method=\"hist\")\n",
    "\n",
    "xgb_model.fit(X_train_oversampled, y_train_oversampled)\n",
    "\n",
    "y_predOver = xgb_model.predict(X_testSet)\n",
    "accuracy = accuracy_score(y_testSet, y_predOver)\n",
    "print(\"Accuracy: %.2f%%\" % (accuracy * 100.0))\n"
   ],
   "metadata": {
    "collapsed": false
   }
  },
  {
   "cell_type": "code",
   "execution_count": 19,
   "outputs": [
    {
     "name": "stdout",
     "output_type": "stream",
     "text": [
      "F1-Score: 0.7172881087433937\n",
      "log_loss: 1.0473751036692778\n",
      "AUC: 0.7819349076432593\n"
     ]
    }
   ],
   "source": [
    "from sklearn.metrics import log_loss, roc_auc_score, f1_score\n",
    "pred = xgb_model.predict_proba(X_testSet)\n",
    "\n",
    "print(\"F1-Score:\", f1_score(y_testSet, y_predOver, average='weighted'))\n",
    "print(\"log_loss:\",log_loss(y_testSet, pred))\n",
    "print(\"AUC:\",roc_auc_score(y_testSet, pred, multi_class=\"ovr\"))"
   ],
   "metadata": {
    "collapsed": false
   }
  },
  {
   "cell_type": "code",
   "execution_count": 20,
   "outputs": [
    {
     "name": "stdout",
     "output_type": "stream",
     "text": [
      "[[284  15   2  27  27   7]\n",
      " [ 11  15   0   0   5   3]\n",
      " [  0   0   1   1   0   0]\n",
      " [ 19   1   0   6   1   1]\n",
      " [ 10   0   0   1   2   0]\n",
      " [  3   3   1   0   1   1]]\n",
      "              precision    recall  f1-score   support\n",
      "\n",
      "           0       0.87      0.78      0.82       362\n",
      "           1       0.44      0.44      0.44        34\n",
      "           2       0.25      0.50      0.33         2\n",
      "           3       0.17      0.21      0.19        28\n",
      "           4       0.06      0.15      0.08        13\n",
      "           5       0.08      0.11      0.10         9\n",
      "\n",
      "    accuracy                           0.69       448\n",
      "   macro avg       0.31      0.37      0.33       448\n",
      "weighted avg       0.75      0.69      0.72       448\n",
      "\n"
     ]
    }
   ],
   "source": [
    "from sklearn.metrics import classification_report,confusion_matrix\n",
    "print(confusion_matrix(y_testSet,y_predOver))\n",
    "print(classification_report(y_testSet,y_predOver))"
   ],
   "metadata": {
    "collapsed": false
   }
  },
  {
   "cell_type": "code",
   "execution_count": null,
   "outputs": [],
   "source": [],
   "metadata": {
    "collapsed": false
   }
  }
 ],
 "metadata": {
  "kernelspec": {
   "display_name": "Python 3",
   "language": "python",
   "name": "python3"
  },
  "language_info": {
   "codemirror_mode": {
    "name": "ipython",
    "version": 3
   },
   "file_extension": ".py",
   "mimetype": "text/x-python",
   "name": "python",
   "nbconvert_exporter": "python",
   "pygments_lexer": "ipython3",
   "version": "3.8.5"
  },
  "colab": {
   "provenance": []
  }
 },
 "nbformat": 4,
 "nbformat_minor": 0
}
