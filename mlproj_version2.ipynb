{
 "cells": [
  {
   "cell_type": "markdown",
   "metadata": {
    "id": "cbxxfBLxJZqR"
   },
   "source": [
    "## Import tab separated data"
   ]
  },
  {
   "cell_type": "code",
   "execution_count": 7,
   "metadata": {
    "id": "tzix0-mHJZqT"
   },
   "outputs": [],
   "source": [
    "import pandas as pd\n",
    "import datetime as dt\n",
    "import numpy as np\n",
    "import sklearn\n",
    "from sklearn.preprocessing import StandardScaler"
   ]
  },
  {
   "cell_type": "code",
   "source": [
    "from google.colab import files\n",
    "\n",
    "uploaded = files.upload()"
   ],
   "metadata": {
    "colab": {
     "base_uri": "https://localhost:8080/",
     "height": 73
    },
    "id": "_lJpQsZgKcb0",
    "outputId": "3db415bd-7ff2-483f-da9f-a300c1e88bba"
   },
   "execution_count": 2,
   "outputs": [
    {
     "output_type": "display_data",
     "data": {
      "text/plain": [
       "<IPython.core.display.HTML object>"
      ],
      "text/html": [
       "\n",
       "     <input type=\"file\" id=\"files-00f1e410-fead-459d-a7d4-92ae3ff745ec\" name=\"files[]\" multiple disabled\n",
       "        style=\"border:none\" />\n",
       "     <output id=\"result-00f1e410-fead-459d-a7d4-92ae3ff745ec\">\n",
       "      Upload widget is only available when the cell has been executed in the\n",
       "      current browser session. Please rerun this cell to enable.\n",
       "      </output>\n",
       "      <script>// Copyright 2017 Google LLC\n",
       "//\n",
       "// Licensed under the Apache License, Version 2.0 (the \"License\");\n",
       "// you may not use this file except in compliance with the License.\n",
       "// You may obtain a copy of the License at\n",
       "//\n",
       "//      http://www.apache.org/licenses/LICENSE-2.0\n",
       "//\n",
       "// Unless required by applicable law or agreed to in writing, software\n",
       "// distributed under the License is distributed on an \"AS IS\" BASIS,\n",
       "// WITHOUT WARRANTIES OR CONDITIONS OF ANY KIND, either express or implied.\n",
       "// See the License for the specific language governing permissions and\n",
       "// limitations under the License.\n",
       "\n",
       "/**\n",
       " * @fileoverview Helpers for google.colab Python module.\n",
       " */\n",
       "(function(scope) {\n",
       "function span(text, styleAttributes = {}) {\n",
       "  const element = document.createElement('span');\n",
       "  element.textContent = text;\n",
       "  for (const key of Object.keys(styleAttributes)) {\n",
       "    element.style[key] = styleAttributes[key];\n",
       "  }\n",
       "  return element;\n",
       "}\n",
       "\n",
       "// Max number of bytes which will be uploaded at a time.\n",
       "const MAX_PAYLOAD_SIZE = 100 * 1024;\n",
       "\n",
       "function _uploadFiles(inputId, outputId) {\n",
       "  const steps = uploadFilesStep(inputId, outputId);\n",
       "  const outputElement = document.getElementById(outputId);\n",
       "  // Cache steps on the outputElement to make it available for the next call\n",
       "  // to uploadFilesContinue from Python.\n",
       "  outputElement.steps = steps;\n",
       "\n",
       "  return _uploadFilesContinue(outputId);\n",
       "}\n",
       "\n",
       "// This is roughly an async generator (not supported in the browser yet),\n",
       "// where there are multiple asynchronous steps and the Python side is going\n",
       "// to poll for completion of each step.\n",
       "// This uses a Promise to block the python side on completion of each step,\n",
       "// then passes the result of the previous step as the input to the next step.\n",
       "function _uploadFilesContinue(outputId) {\n",
       "  const outputElement = document.getElementById(outputId);\n",
       "  const steps = outputElement.steps;\n",
       "\n",
       "  const next = steps.next(outputElement.lastPromiseValue);\n",
       "  return Promise.resolve(next.value.promise).then((value) => {\n",
       "    // Cache the last promise value to make it available to the next\n",
       "    // step of the generator.\n",
       "    outputElement.lastPromiseValue = value;\n",
       "    return next.value.response;\n",
       "  });\n",
       "}\n",
       "\n",
       "/**\n",
       " * Generator function which is called between each async step of the upload\n",
       " * process.\n",
       " * @param {string} inputId Element ID of the input file picker element.\n",
       " * @param {string} outputId Element ID of the output display.\n",
       " * @return {!Iterable<!Object>} Iterable of next steps.\n",
       " */\n",
       "function* uploadFilesStep(inputId, outputId) {\n",
       "  const inputElement = document.getElementById(inputId);\n",
       "  inputElement.disabled = false;\n",
       "\n",
       "  const outputElement = document.getElementById(outputId);\n",
       "  outputElement.innerHTML = '';\n",
       "\n",
       "  const pickedPromise = new Promise((resolve) => {\n",
       "    inputElement.addEventListener('change', (e) => {\n",
       "      resolve(e.target.files);\n",
       "    });\n",
       "  });\n",
       "\n",
       "  const cancel = document.createElement('button');\n",
       "  inputElement.parentElement.appendChild(cancel);\n",
       "  cancel.textContent = 'Cancel upload';\n",
       "  const cancelPromise = new Promise((resolve) => {\n",
       "    cancel.onclick = () => {\n",
       "      resolve(null);\n",
       "    };\n",
       "  });\n",
       "\n",
       "  // Wait for the user to pick the files.\n",
       "  const files = yield {\n",
       "    promise: Promise.race([pickedPromise, cancelPromise]),\n",
       "    response: {\n",
       "      action: 'starting',\n",
       "    }\n",
       "  };\n",
       "\n",
       "  cancel.remove();\n",
       "\n",
       "  // Disable the input element since further picks are not allowed.\n",
       "  inputElement.disabled = true;\n",
       "\n",
       "  if (!files) {\n",
       "    return {\n",
       "      response: {\n",
       "        action: 'complete',\n",
       "      }\n",
       "    };\n",
       "  }\n",
       "\n",
       "  for (const file of files) {\n",
       "    const li = document.createElement('li');\n",
       "    li.append(span(file.name, {fontWeight: 'bold'}));\n",
       "    li.append(span(\n",
       "        `(${file.type || 'n/a'}) - ${file.size} bytes, ` +\n",
       "        `last modified: ${\n",
       "            file.lastModifiedDate ? file.lastModifiedDate.toLocaleDateString() :\n",
       "                                    'n/a'} - `));\n",
       "    const percent = span('0% done');\n",
       "    li.appendChild(percent);\n",
       "\n",
       "    outputElement.appendChild(li);\n",
       "\n",
       "    const fileDataPromise = new Promise((resolve) => {\n",
       "      const reader = new FileReader();\n",
       "      reader.onload = (e) => {\n",
       "        resolve(e.target.result);\n",
       "      };\n",
       "      reader.readAsArrayBuffer(file);\n",
       "    });\n",
       "    // Wait for the data to be ready.\n",
       "    let fileData = yield {\n",
       "      promise: fileDataPromise,\n",
       "      response: {\n",
       "        action: 'continue',\n",
       "      }\n",
       "    };\n",
       "\n",
       "    // Use a chunked sending to avoid message size limits. See b/62115660.\n",
       "    let position = 0;\n",
       "    do {\n",
       "      const length = Math.min(fileData.byteLength - position, MAX_PAYLOAD_SIZE);\n",
       "      const chunk = new Uint8Array(fileData, position, length);\n",
       "      position += length;\n",
       "\n",
       "      const base64 = btoa(String.fromCharCode.apply(null, chunk));\n",
       "      yield {\n",
       "        response: {\n",
       "          action: 'append',\n",
       "          file: file.name,\n",
       "          data: base64,\n",
       "        },\n",
       "      };\n",
       "\n",
       "      let percentDone = fileData.byteLength === 0 ?\n",
       "          100 :\n",
       "          Math.round((position / fileData.byteLength) * 100);\n",
       "      percent.textContent = `${percentDone}% done`;\n",
       "\n",
       "    } while (position < fileData.byteLength);\n",
       "  }\n",
       "\n",
       "  // All done.\n",
       "  yield {\n",
       "    response: {\n",
       "      action: 'complete',\n",
       "    }\n",
       "  };\n",
       "}\n",
       "\n",
       "scope.google = scope.google || {};\n",
       "scope.google.colab = scope.google.colab || {};\n",
       "scope.google.colab._files = {\n",
       "  _uploadFiles,\n",
       "  _uploadFilesContinue,\n",
       "};\n",
       "})(self);\n",
       "</script> "
      ]
     },
     "metadata": {}
    },
    {
     "output_type": "stream",
     "name": "stdout",
     "text": [
      "Saving marketing_campaign.csv to marketing_campaign (4).csv\n"
     ]
    }
   ]
  },
  {
   "cell_type": "code",
   "execution_count": 34,
   "metadata": {
    "id": "gxPWX5PIJZqU"
   },
   "outputs": [],
   "source": [
    "#data = pd.read_csv('\\Users\\miauk\\Dropbox\\Machine Learning\\dataset\\archive\\marketing_campaign.csv', sep = '\\t')\n",
    "data = pd.read_csv(\"marketing_campaign.csv\", delimiter='\\t')"
   ]
  },
  {
   "cell_type": "code",
   "execution_count": 35,
   "metadata": {
    "colab": {
     "base_uri": "https://localhost:8080/",
     "height": 299
    },
    "id": "g-UWZBpOJZqV",
    "outputId": "fd658d3e-d8c3-4172-b71e-51372a8e186e"
   },
   "outputs": [
    {
     "data": {
      "text/plain": "     ID  Year_Birth   Education Marital_Status   Income  Kidhome  Teenhome  \\\n0  5524        1957  Graduation         Single  58138.0        0         0   \n1  2174        1954  Graduation         Single  46344.0        1         1   \n2  4141        1965  Graduation       Together  71613.0        0         0   \n3  6182        1984  Graduation       Together  26646.0        1         0   \n4  5324        1981         PhD        Married  58293.0        1         0   \n\n  Dt_Customer  Recency  MntWines  ...  NumWebVisitsMonth  AcceptedCmp3  \\\n0  04-09-2012       58       635  ...                  7             0   \n1  08-03-2014       38        11  ...                  5             0   \n2  21-08-2013       26       426  ...                  4             0   \n3  10-02-2014       26        11  ...                  6             0   \n4  19-01-2014       94       173  ...                  5             0   \n\n   AcceptedCmp4  AcceptedCmp5  AcceptedCmp1  AcceptedCmp2  Complain  \\\n0             0             0             0             0         0   \n1             0             0             0             0         0   \n2             0             0             0             0         0   \n3             0             0             0             0         0   \n4             0             0             0             0         0   \n\n   Z_CostContact  Z_Revenue  Response  \n0              3         11         1  \n1              3         11         0  \n2              3         11         0  \n3              3         11         0  \n4              3         11         0  \n\n[5 rows x 29 columns]",
      "text/html": "<div>\n<style scoped>\n    .dataframe tbody tr th:only-of-type {\n        vertical-align: middle;\n    }\n\n    .dataframe tbody tr th {\n        vertical-align: top;\n    }\n\n    .dataframe thead th {\n        text-align: right;\n    }\n</style>\n<table border=\"1\" class=\"dataframe\">\n  <thead>\n    <tr style=\"text-align: right;\">\n      <th></th>\n      <th>ID</th>\n      <th>Year_Birth</th>\n      <th>Education</th>\n      <th>Marital_Status</th>\n      <th>Income</th>\n      <th>Kidhome</th>\n      <th>Teenhome</th>\n      <th>Dt_Customer</th>\n      <th>Recency</th>\n      <th>MntWines</th>\n      <th>...</th>\n      <th>NumWebVisitsMonth</th>\n      <th>AcceptedCmp3</th>\n      <th>AcceptedCmp4</th>\n      <th>AcceptedCmp5</th>\n      <th>AcceptedCmp1</th>\n      <th>AcceptedCmp2</th>\n      <th>Complain</th>\n      <th>Z_CostContact</th>\n      <th>Z_Revenue</th>\n      <th>Response</th>\n    </tr>\n  </thead>\n  <tbody>\n    <tr>\n      <th>0</th>\n      <td>5524</td>\n      <td>1957</td>\n      <td>Graduation</td>\n      <td>Single</td>\n      <td>58138.0</td>\n      <td>0</td>\n      <td>0</td>\n      <td>04-09-2012</td>\n      <td>58</td>\n      <td>635</td>\n      <td>...</td>\n      <td>7</td>\n      <td>0</td>\n      <td>0</td>\n      <td>0</td>\n      <td>0</td>\n      <td>0</td>\n      <td>0</td>\n      <td>3</td>\n      <td>11</td>\n      <td>1</td>\n    </tr>\n    <tr>\n      <th>1</th>\n      <td>2174</td>\n      <td>1954</td>\n      <td>Graduation</td>\n      <td>Single</td>\n      <td>46344.0</td>\n      <td>1</td>\n      <td>1</td>\n      <td>08-03-2014</td>\n      <td>38</td>\n      <td>11</td>\n      <td>...</td>\n      <td>5</td>\n      <td>0</td>\n      <td>0</td>\n      <td>0</td>\n      <td>0</td>\n      <td>0</td>\n      <td>0</td>\n      <td>3</td>\n      <td>11</td>\n      <td>0</td>\n    </tr>\n    <tr>\n      <th>2</th>\n      <td>4141</td>\n      <td>1965</td>\n      <td>Graduation</td>\n      <td>Together</td>\n      <td>71613.0</td>\n      <td>0</td>\n      <td>0</td>\n      <td>21-08-2013</td>\n      <td>26</td>\n      <td>426</td>\n      <td>...</td>\n      <td>4</td>\n      <td>0</td>\n      <td>0</td>\n      <td>0</td>\n      <td>0</td>\n      <td>0</td>\n      <td>0</td>\n      <td>3</td>\n      <td>11</td>\n      <td>0</td>\n    </tr>\n    <tr>\n      <th>3</th>\n      <td>6182</td>\n      <td>1984</td>\n      <td>Graduation</td>\n      <td>Together</td>\n      <td>26646.0</td>\n      <td>1</td>\n      <td>0</td>\n      <td>10-02-2014</td>\n      <td>26</td>\n      <td>11</td>\n      <td>...</td>\n      <td>6</td>\n      <td>0</td>\n      <td>0</td>\n      <td>0</td>\n      <td>0</td>\n      <td>0</td>\n      <td>0</td>\n      <td>3</td>\n      <td>11</td>\n      <td>0</td>\n    </tr>\n    <tr>\n      <th>4</th>\n      <td>5324</td>\n      <td>1981</td>\n      <td>PhD</td>\n      <td>Married</td>\n      <td>58293.0</td>\n      <td>1</td>\n      <td>0</td>\n      <td>19-01-2014</td>\n      <td>94</td>\n      <td>173</td>\n      <td>...</td>\n      <td>5</td>\n      <td>0</td>\n      <td>0</td>\n      <td>0</td>\n      <td>0</td>\n      <td>0</td>\n      <td>0</td>\n      <td>3</td>\n      <td>11</td>\n      <td>0</td>\n    </tr>\n  </tbody>\n</table>\n<p>5 rows × 29 columns</p>\n</div>"
     },
     "execution_count": 35,
     "metadata": {},
     "output_type": "execute_result"
    }
   ],
   "source": [
    "data.head()"
   ]
  },
  {
   "cell_type": "markdown",
   "metadata": {
    "id": "ZDOLQw0zJZqW"
   },
   "source": [
    "## Drop Irrelevant rows"
   ]
  },
  {
   "cell_type": "code",
   "execution_count": 36,
   "metadata": {
    "id": "dD_VYSu9JZqW"
   },
   "outputs": [],
   "source": [
    "data = data.drop(\n",
    "    ['ID', 'MntWines', 'MntFruits', 'MntMeatProducts', 'MntFishProducts', 'MntSweetProducts', 'MntGoldProds',\n",
    "     'NumWebPurchases', 'NumCatalogPurchases', 'NumStorePurchases', 'NumWebVisitsMonth', 'Complain', 'Z_CostContact',\n",
    "     'Z_Revenue', 'Response'], axis=1)"
   ]
  },
  {
   "cell_type": "code",
   "execution_count": 37,
   "metadata": {
    "id": "-Tuy1MjoJZqX"
   },
   "outputs": [],
   "source": [
    "data = data.sort_index(axis=1)"
   ]
  },
  {
   "cell_type": "code",
   "execution_count": 38,
   "metadata": {
    "colab": {
     "base_uri": "https://localhost:8080/"
    },
    "id": "KyqGt1llJZqY",
    "outputId": "bab7dd00-d9b7-45da-9f92-1b0cf73333a6"
   },
   "outputs": [
    {
     "name": "stdout",
     "output_type": "stream",
     "text": [
      "AcceptedCmp1\n",
      "AcceptedCmp2\n",
      "AcceptedCmp3\n",
      "AcceptedCmp4\n",
      "AcceptedCmp5\n",
      "Dt_Customer\n",
      "Education\n",
      "Income\n",
      "Kidhome\n",
      "Marital_Status\n",
      "NumDealsPurchases\n",
      "Recency\n",
      "Teenhome\n",
      "Year_Birth\n"
     ]
    }
   ],
   "source": [
    "for column in data:\n",
    "    print(column)"
   ]
  },
  {
   "cell_type": "code",
   "execution_count": 39,
   "metadata": {
    "colab": {
     "base_uri": "https://localhost:8080/",
     "height": 488
    },
    "id": "YF1pU3MnJZqZ",
    "outputId": "ae9657f5-5a91-4b55-b0f5-731f680be540"
   },
   "outputs": [
    {
     "data": {
      "text/plain": "      AcceptedCmp1  AcceptedCmp2  AcceptedCmp3  AcceptedCmp4  AcceptedCmp5  \\\n0                0             0             0             0             0   \n1                0             0             0             0             0   \n2                0             0             0             0             0   \n3                0             0             0             0             0   \n4                0             0             0             0             0   \n...            ...           ...           ...           ...           ...   \n2235             0             0             0             0             0   \n2236             1             0             0             0             0   \n2237             0             0             0             1             0   \n2238             0             0             0             0             0   \n2239             0             0             0             0             0   \n\n     Dt_Customer   Education   Income  Kidhome Marital_Status  \\\n0     04-09-2012  Graduation  58138.0        0         Single   \n1     08-03-2014  Graduation  46344.0        1         Single   \n2     21-08-2013  Graduation  71613.0        0       Together   \n3     10-02-2014  Graduation  26646.0        1       Together   \n4     19-01-2014         PhD  58293.0        1        Married   \n...          ...         ...      ...      ...            ...   \n2235  13-06-2013  Graduation  61223.0        0        Married   \n2236  10-06-2014         PhD  64014.0        2       Together   \n2237  25-01-2014  Graduation  56981.0        0       Divorced   \n2238  24-01-2014      Master  69245.0        0       Together   \n2239  15-10-2012         PhD  52869.0        1        Married   \n\n      NumDealsPurchases  Recency  Teenhome  Year_Birth  \n0                     3       58         0        1957  \n1                     2       38         1        1954  \n2                     1       26         0        1965  \n3                     2       26         0        1984  \n4                     5       94         0        1981  \n...                 ...      ...       ...         ...  \n2235                  2       46         1        1967  \n2236                  7       56         1        1946  \n2237                  1       91         0        1981  \n2238                  2        8         1        1956  \n2239                  3       40         1        1954  \n\n[2240 rows x 14 columns]",
      "text/html": "<div>\n<style scoped>\n    .dataframe tbody tr th:only-of-type {\n        vertical-align: middle;\n    }\n\n    .dataframe tbody tr th {\n        vertical-align: top;\n    }\n\n    .dataframe thead th {\n        text-align: right;\n    }\n</style>\n<table border=\"1\" class=\"dataframe\">\n  <thead>\n    <tr style=\"text-align: right;\">\n      <th></th>\n      <th>AcceptedCmp1</th>\n      <th>AcceptedCmp2</th>\n      <th>AcceptedCmp3</th>\n      <th>AcceptedCmp4</th>\n      <th>AcceptedCmp5</th>\n      <th>Dt_Customer</th>\n      <th>Education</th>\n      <th>Income</th>\n      <th>Kidhome</th>\n      <th>Marital_Status</th>\n      <th>NumDealsPurchases</th>\n      <th>Recency</th>\n      <th>Teenhome</th>\n      <th>Year_Birth</th>\n    </tr>\n  </thead>\n  <tbody>\n    <tr>\n      <th>0</th>\n      <td>0</td>\n      <td>0</td>\n      <td>0</td>\n      <td>0</td>\n      <td>0</td>\n      <td>04-09-2012</td>\n      <td>Graduation</td>\n      <td>58138.0</td>\n      <td>0</td>\n      <td>Single</td>\n      <td>3</td>\n      <td>58</td>\n      <td>0</td>\n      <td>1957</td>\n    </tr>\n    <tr>\n      <th>1</th>\n      <td>0</td>\n      <td>0</td>\n      <td>0</td>\n      <td>0</td>\n      <td>0</td>\n      <td>08-03-2014</td>\n      <td>Graduation</td>\n      <td>46344.0</td>\n      <td>1</td>\n      <td>Single</td>\n      <td>2</td>\n      <td>38</td>\n      <td>1</td>\n      <td>1954</td>\n    </tr>\n    <tr>\n      <th>2</th>\n      <td>0</td>\n      <td>0</td>\n      <td>0</td>\n      <td>0</td>\n      <td>0</td>\n      <td>21-08-2013</td>\n      <td>Graduation</td>\n      <td>71613.0</td>\n      <td>0</td>\n      <td>Together</td>\n      <td>1</td>\n      <td>26</td>\n      <td>0</td>\n      <td>1965</td>\n    </tr>\n    <tr>\n      <th>3</th>\n      <td>0</td>\n      <td>0</td>\n      <td>0</td>\n      <td>0</td>\n      <td>0</td>\n      <td>10-02-2014</td>\n      <td>Graduation</td>\n      <td>26646.0</td>\n      <td>1</td>\n      <td>Together</td>\n      <td>2</td>\n      <td>26</td>\n      <td>0</td>\n      <td>1984</td>\n    </tr>\n    <tr>\n      <th>4</th>\n      <td>0</td>\n      <td>0</td>\n      <td>0</td>\n      <td>0</td>\n      <td>0</td>\n      <td>19-01-2014</td>\n      <td>PhD</td>\n      <td>58293.0</td>\n      <td>1</td>\n      <td>Married</td>\n      <td>5</td>\n      <td>94</td>\n      <td>0</td>\n      <td>1981</td>\n    </tr>\n    <tr>\n      <th>...</th>\n      <td>...</td>\n      <td>...</td>\n      <td>...</td>\n      <td>...</td>\n      <td>...</td>\n      <td>...</td>\n      <td>...</td>\n      <td>...</td>\n      <td>...</td>\n      <td>...</td>\n      <td>...</td>\n      <td>...</td>\n      <td>...</td>\n      <td>...</td>\n    </tr>\n    <tr>\n      <th>2235</th>\n      <td>0</td>\n      <td>0</td>\n      <td>0</td>\n      <td>0</td>\n      <td>0</td>\n      <td>13-06-2013</td>\n      <td>Graduation</td>\n      <td>61223.0</td>\n      <td>0</td>\n      <td>Married</td>\n      <td>2</td>\n      <td>46</td>\n      <td>1</td>\n      <td>1967</td>\n    </tr>\n    <tr>\n      <th>2236</th>\n      <td>1</td>\n      <td>0</td>\n      <td>0</td>\n      <td>0</td>\n      <td>0</td>\n      <td>10-06-2014</td>\n      <td>PhD</td>\n      <td>64014.0</td>\n      <td>2</td>\n      <td>Together</td>\n      <td>7</td>\n      <td>56</td>\n      <td>1</td>\n      <td>1946</td>\n    </tr>\n    <tr>\n      <th>2237</th>\n      <td>0</td>\n      <td>0</td>\n      <td>0</td>\n      <td>1</td>\n      <td>0</td>\n      <td>25-01-2014</td>\n      <td>Graduation</td>\n      <td>56981.0</td>\n      <td>0</td>\n      <td>Divorced</td>\n      <td>1</td>\n      <td>91</td>\n      <td>0</td>\n      <td>1981</td>\n    </tr>\n    <tr>\n      <th>2238</th>\n      <td>0</td>\n      <td>0</td>\n      <td>0</td>\n      <td>0</td>\n      <td>0</td>\n      <td>24-01-2014</td>\n      <td>Master</td>\n      <td>69245.0</td>\n      <td>0</td>\n      <td>Together</td>\n      <td>2</td>\n      <td>8</td>\n      <td>1</td>\n      <td>1956</td>\n    </tr>\n    <tr>\n      <th>2239</th>\n      <td>0</td>\n      <td>0</td>\n      <td>0</td>\n      <td>0</td>\n      <td>0</td>\n      <td>15-10-2012</td>\n      <td>PhD</td>\n      <td>52869.0</td>\n      <td>1</td>\n      <td>Married</td>\n      <td>3</td>\n      <td>40</td>\n      <td>1</td>\n      <td>1954</td>\n    </tr>\n  </tbody>\n</table>\n<p>2240 rows × 14 columns</p>\n</div>"
     },
     "execution_count": 39,
     "metadata": {},
     "output_type": "execute_result"
    }
   ],
   "source": [
    "data"
   ]
  },
  {
   "cell_type": "markdown",
   "metadata": {
    "id": "78Ocd0AhJZqa"
   },
   "source": [
    "## Creating a subset of promo data for easier manipulation"
   ]
  },
  {
   "cell_type": "code",
   "execution_count": 40,
   "metadata": {
    "id": "ekenzex8JZqa"
   },
   "outputs": [],
   "source": [
    "promo_data = data.iloc[:, [0, 1, 2, 3, 4]]"
   ]
  },
  {
   "cell_type": "code",
   "execution_count": 41,
   "metadata": {
    "colab": {
     "base_uri": "https://localhost:8080/",
     "height": 424
    },
    "id": "1-_TFQ-hJZqb",
    "outputId": "5730fa53-90d5-4928-b643-a5aedd3e099d"
   },
   "outputs": [
    {
     "data": {
      "text/plain": "      AcceptedCmp1  AcceptedCmp2  AcceptedCmp3  AcceptedCmp4  AcceptedCmp5\n0                0             0             0             0             0\n1                0             0             0             0             0\n2                0             0             0             0             0\n3                0             0             0             0             0\n4                0             0             0             0             0\n...            ...           ...           ...           ...           ...\n2235             0             0             0             0             0\n2236             1             0             0             0             0\n2237             0             0             0             1             0\n2238             0             0             0             0             0\n2239             0             0             0             0             0\n\n[2240 rows x 5 columns]",
      "text/html": "<div>\n<style scoped>\n    .dataframe tbody tr th:only-of-type {\n        vertical-align: middle;\n    }\n\n    .dataframe tbody tr th {\n        vertical-align: top;\n    }\n\n    .dataframe thead th {\n        text-align: right;\n    }\n</style>\n<table border=\"1\" class=\"dataframe\">\n  <thead>\n    <tr style=\"text-align: right;\">\n      <th></th>\n      <th>AcceptedCmp1</th>\n      <th>AcceptedCmp2</th>\n      <th>AcceptedCmp3</th>\n      <th>AcceptedCmp4</th>\n      <th>AcceptedCmp5</th>\n    </tr>\n  </thead>\n  <tbody>\n    <tr>\n      <th>0</th>\n      <td>0</td>\n      <td>0</td>\n      <td>0</td>\n      <td>0</td>\n      <td>0</td>\n    </tr>\n    <tr>\n      <th>1</th>\n      <td>0</td>\n      <td>0</td>\n      <td>0</td>\n      <td>0</td>\n      <td>0</td>\n    </tr>\n    <tr>\n      <th>2</th>\n      <td>0</td>\n      <td>0</td>\n      <td>0</td>\n      <td>0</td>\n      <td>0</td>\n    </tr>\n    <tr>\n      <th>3</th>\n      <td>0</td>\n      <td>0</td>\n      <td>0</td>\n      <td>0</td>\n      <td>0</td>\n    </tr>\n    <tr>\n      <th>4</th>\n      <td>0</td>\n      <td>0</td>\n      <td>0</td>\n      <td>0</td>\n      <td>0</td>\n    </tr>\n    <tr>\n      <th>...</th>\n      <td>...</td>\n      <td>...</td>\n      <td>...</td>\n      <td>...</td>\n      <td>...</td>\n    </tr>\n    <tr>\n      <th>2235</th>\n      <td>0</td>\n      <td>0</td>\n      <td>0</td>\n      <td>0</td>\n      <td>0</td>\n    </tr>\n    <tr>\n      <th>2236</th>\n      <td>1</td>\n      <td>0</td>\n      <td>0</td>\n      <td>0</td>\n      <td>0</td>\n    </tr>\n    <tr>\n      <th>2237</th>\n      <td>0</td>\n      <td>0</td>\n      <td>0</td>\n      <td>1</td>\n      <td>0</td>\n    </tr>\n    <tr>\n      <th>2238</th>\n      <td>0</td>\n      <td>0</td>\n      <td>0</td>\n      <td>0</td>\n      <td>0</td>\n    </tr>\n    <tr>\n      <th>2239</th>\n      <td>0</td>\n      <td>0</td>\n      <td>0</td>\n      <td>0</td>\n      <td>0</td>\n    </tr>\n  </tbody>\n</table>\n<p>2240 rows × 5 columns</p>\n</div>"
     },
     "execution_count": 41,
     "metadata": {},
     "output_type": "execute_result"
    }
   ],
   "source": [
    "promo_data"
   ]
  },
  {
   "cell_type": "markdown",
   "source": [
    "# Determining the first succesful Campaign"
   ],
   "metadata": {
    "id": "PMypDe4XXxO8"
   }
  },
  {
   "cell_type": "code",
   "source": [
    "count_row = promo_data.shape[0]\n",
    "number_cmp = []"
   ],
   "metadata": {
    "id": "VCI6HLftTZxf"
   },
   "execution_count": 42,
   "outputs": []
  },
  {
   "cell_type": "code",
   "source": [
    "for i in range(count_row):\n",
    "    if promo_data.iloc[i]['AcceptedCmp1'] == 1:\n",
    "        number_cmp.append(1)\n",
    "    elif promo_data.iloc[i]['AcceptedCmp2'] == 1:\n",
    "        number_cmp.append(2)\n",
    "    elif promo_data.iloc[i]['AcceptedCmp3'] == 1:\n",
    "        number_cmp.append(3)\n",
    "    elif promo_data.iloc[i]['AcceptedCmp4'] == 1:\n",
    "        number_cmp.append(4)\n",
    "    elif promo_data.iloc[i]['AcceptedCmp5'] == 1:\n",
    "        number_cmp.append(5)\n",
    "    else:\n",
    "        number_cmp.append(0)\n",
    "\n",
    "#print(number_cmp)"
   ],
   "metadata": {
    "id": "7s0lzESDRDlb"
   },
   "execution_count": 43,
   "outputs": []
  },
  {
   "cell_type": "code",
   "source": [
    "data['Succesful_cmp'] = number_cmp"
   ],
   "metadata": {
    "id": "sPFWQFLWURdF"
   },
   "execution_count": 44,
   "outputs": []
  },
  {
   "cell_type": "code",
   "source": [
    "data = data.drop(['AcceptedCmp1', 'AcceptedCmp2', 'AcceptedCmp3', 'AcceptedCmp4', 'AcceptedCmp5', ], axis=1)\n"
   ],
   "metadata": {
    "id": "mH6DzLT_XM3v"
   },
   "execution_count": 45,
   "outputs": []
  },
  {
   "cell_type": "markdown",
   "source": [
    "**Cleaned data:**"
   ],
   "metadata": {
    "id": "KqPylrEoYPEx"
   }
  },
  {
   "cell_type": "code",
   "source": [
    "data"
   ],
   "metadata": {
    "colab": {
     "base_uri": "https://localhost:8080/",
     "height": 424
    },
    "id": "3rS7zdnIXgAr",
    "outputId": "6b674776-05c4-4cda-9b92-942985a349d6"
   },
   "execution_count": 46,
   "outputs": [
    {
     "data": {
      "text/plain": "     Dt_Customer   Education   Income  Kidhome Marital_Status  \\\n0     04-09-2012  Graduation  58138.0        0         Single   \n1     08-03-2014  Graduation  46344.0        1         Single   \n2     21-08-2013  Graduation  71613.0        0       Together   \n3     10-02-2014  Graduation  26646.0        1       Together   \n4     19-01-2014         PhD  58293.0        1        Married   \n...          ...         ...      ...      ...            ...   \n2235  13-06-2013  Graduation  61223.0        0        Married   \n2236  10-06-2014         PhD  64014.0        2       Together   \n2237  25-01-2014  Graduation  56981.0        0       Divorced   \n2238  24-01-2014      Master  69245.0        0       Together   \n2239  15-10-2012         PhD  52869.0        1        Married   \n\n      NumDealsPurchases  Recency  Teenhome  Year_Birth  Succesful_cmp  \n0                     3       58         0        1957              0  \n1                     2       38         1        1954              0  \n2                     1       26         0        1965              0  \n3                     2       26         0        1984              0  \n4                     5       94         0        1981              0  \n...                 ...      ...       ...         ...            ...  \n2235                  2       46         1        1967              0  \n2236                  7       56         1        1946              1  \n2237                  1       91         0        1981              4  \n2238                  2        8         1        1956              0  \n2239                  3       40         1        1954              0  \n\n[2240 rows x 10 columns]",
      "text/html": "<div>\n<style scoped>\n    .dataframe tbody tr th:only-of-type {\n        vertical-align: middle;\n    }\n\n    .dataframe tbody tr th {\n        vertical-align: top;\n    }\n\n    .dataframe thead th {\n        text-align: right;\n    }\n</style>\n<table border=\"1\" class=\"dataframe\">\n  <thead>\n    <tr style=\"text-align: right;\">\n      <th></th>\n      <th>Dt_Customer</th>\n      <th>Education</th>\n      <th>Income</th>\n      <th>Kidhome</th>\n      <th>Marital_Status</th>\n      <th>NumDealsPurchases</th>\n      <th>Recency</th>\n      <th>Teenhome</th>\n      <th>Year_Birth</th>\n      <th>Succesful_cmp</th>\n    </tr>\n  </thead>\n  <tbody>\n    <tr>\n      <th>0</th>\n      <td>04-09-2012</td>\n      <td>Graduation</td>\n      <td>58138.0</td>\n      <td>0</td>\n      <td>Single</td>\n      <td>3</td>\n      <td>58</td>\n      <td>0</td>\n      <td>1957</td>\n      <td>0</td>\n    </tr>\n    <tr>\n      <th>1</th>\n      <td>08-03-2014</td>\n      <td>Graduation</td>\n      <td>46344.0</td>\n      <td>1</td>\n      <td>Single</td>\n      <td>2</td>\n      <td>38</td>\n      <td>1</td>\n      <td>1954</td>\n      <td>0</td>\n    </tr>\n    <tr>\n      <th>2</th>\n      <td>21-08-2013</td>\n      <td>Graduation</td>\n      <td>71613.0</td>\n      <td>0</td>\n      <td>Together</td>\n      <td>1</td>\n      <td>26</td>\n      <td>0</td>\n      <td>1965</td>\n      <td>0</td>\n    </tr>\n    <tr>\n      <th>3</th>\n      <td>10-02-2014</td>\n      <td>Graduation</td>\n      <td>26646.0</td>\n      <td>1</td>\n      <td>Together</td>\n      <td>2</td>\n      <td>26</td>\n      <td>0</td>\n      <td>1984</td>\n      <td>0</td>\n    </tr>\n    <tr>\n      <th>4</th>\n      <td>19-01-2014</td>\n      <td>PhD</td>\n      <td>58293.0</td>\n      <td>1</td>\n      <td>Married</td>\n      <td>5</td>\n      <td>94</td>\n      <td>0</td>\n      <td>1981</td>\n      <td>0</td>\n    </tr>\n    <tr>\n      <th>...</th>\n      <td>...</td>\n      <td>...</td>\n      <td>...</td>\n      <td>...</td>\n      <td>...</td>\n      <td>...</td>\n      <td>...</td>\n      <td>...</td>\n      <td>...</td>\n      <td>...</td>\n    </tr>\n    <tr>\n      <th>2235</th>\n      <td>13-06-2013</td>\n      <td>Graduation</td>\n      <td>61223.0</td>\n      <td>0</td>\n      <td>Married</td>\n      <td>2</td>\n      <td>46</td>\n      <td>1</td>\n      <td>1967</td>\n      <td>0</td>\n    </tr>\n    <tr>\n      <th>2236</th>\n      <td>10-06-2014</td>\n      <td>PhD</td>\n      <td>64014.0</td>\n      <td>2</td>\n      <td>Together</td>\n      <td>7</td>\n      <td>56</td>\n      <td>1</td>\n      <td>1946</td>\n      <td>1</td>\n    </tr>\n    <tr>\n      <th>2237</th>\n      <td>25-01-2014</td>\n      <td>Graduation</td>\n      <td>56981.0</td>\n      <td>0</td>\n      <td>Divorced</td>\n      <td>1</td>\n      <td>91</td>\n      <td>0</td>\n      <td>1981</td>\n      <td>4</td>\n    </tr>\n    <tr>\n      <th>2238</th>\n      <td>24-01-2014</td>\n      <td>Master</td>\n      <td>69245.0</td>\n      <td>0</td>\n      <td>Together</td>\n      <td>2</td>\n      <td>8</td>\n      <td>1</td>\n      <td>1956</td>\n      <td>0</td>\n    </tr>\n    <tr>\n      <th>2239</th>\n      <td>15-10-2012</td>\n      <td>PhD</td>\n      <td>52869.0</td>\n      <td>1</td>\n      <td>Married</td>\n      <td>3</td>\n      <td>40</td>\n      <td>1</td>\n      <td>1954</td>\n      <td>0</td>\n    </tr>\n  </tbody>\n</table>\n<p>2240 rows × 10 columns</p>\n</div>"
     },
     "execution_count": 46,
     "metadata": {},
     "output_type": "execute_result"
    }
   ]
  },
  {
   "cell_type": "markdown",
   "source": [
    "**Drop 'age' outliers with Year_Birth <1940**"
   ],
   "metadata": {
    "collapsed": false
   }
  },
  {
   "cell_type": "code",
   "execution_count": 49,
   "outputs": [
    {
     "data": {
      "text/plain": "     Dt_Customer   Education   Income  Kidhome Marital_Status  \\\n0     04-09-2012  Graduation  58138.0        0         Single   \n1     08-03-2014  Graduation  46344.0        1         Single   \n2     21-08-2013  Graduation  71613.0        0       Together   \n3     10-02-2014  Graduation  26646.0        1       Together   \n4     19-01-2014         PhD  58293.0        1        Married   \n...          ...         ...      ...      ...            ...   \n2235  13-06-2013  Graduation  61223.0        0        Married   \n2236  10-06-2014         PhD  64014.0        2       Together   \n2237  25-01-2014  Graduation  56981.0        0       Divorced   \n2238  24-01-2014      Master  69245.0        0       Together   \n2239  15-10-2012         PhD  52869.0        1        Married   \n\n      NumDealsPurchases  Recency  Teenhome  Year_Birth  Succesful_cmp  \n0                     3       58         0        1957              0  \n1                     2       38         1        1954              0  \n2                     1       26         0        1965              0  \n3                     2       26         0        1984              0  \n4                     5       94         0        1981              0  \n...                 ...      ...       ...         ...            ...  \n2235                  2       46         1        1967              0  \n2236                  7       56         1        1946              1  \n2237                  1       91         0        1981              4  \n2238                  2        8         1        1956              0  \n2239                  3       40         1        1954              0  \n\n[2237 rows x 10 columns]",
      "text/html": "<div>\n<style scoped>\n    .dataframe tbody tr th:only-of-type {\n        vertical-align: middle;\n    }\n\n    .dataframe tbody tr th {\n        vertical-align: top;\n    }\n\n    .dataframe thead th {\n        text-align: right;\n    }\n</style>\n<table border=\"1\" class=\"dataframe\">\n  <thead>\n    <tr style=\"text-align: right;\">\n      <th></th>\n      <th>Dt_Customer</th>\n      <th>Education</th>\n      <th>Income</th>\n      <th>Kidhome</th>\n      <th>Marital_Status</th>\n      <th>NumDealsPurchases</th>\n      <th>Recency</th>\n      <th>Teenhome</th>\n      <th>Year_Birth</th>\n      <th>Succesful_cmp</th>\n    </tr>\n  </thead>\n  <tbody>\n    <tr>\n      <th>0</th>\n      <td>04-09-2012</td>\n      <td>Graduation</td>\n      <td>58138.0</td>\n      <td>0</td>\n      <td>Single</td>\n      <td>3</td>\n      <td>58</td>\n      <td>0</td>\n      <td>1957</td>\n      <td>0</td>\n    </tr>\n    <tr>\n      <th>1</th>\n      <td>08-03-2014</td>\n      <td>Graduation</td>\n      <td>46344.0</td>\n      <td>1</td>\n      <td>Single</td>\n      <td>2</td>\n      <td>38</td>\n      <td>1</td>\n      <td>1954</td>\n      <td>0</td>\n    </tr>\n    <tr>\n      <th>2</th>\n      <td>21-08-2013</td>\n      <td>Graduation</td>\n      <td>71613.0</td>\n      <td>0</td>\n      <td>Together</td>\n      <td>1</td>\n      <td>26</td>\n      <td>0</td>\n      <td>1965</td>\n      <td>0</td>\n    </tr>\n    <tr>\n      <th>3</th>\n      <td>10-02-2014</td>\n      <td>Graduation</td>\n      <td>26646.0</td>\n      <td>1</td>\n      <td>Together</td>\n      <td>2</td>\n      <td>26</td>\n      <td>0</td>\n      <td>1984</td>\n      <td>0</td>\n    </tr>\n    <tr>\n      <th>4</th>\n      <td>19-01-2014</td>\n      <td>PhD</td>\n      <td>58293.0</td>\n      <td>1</td>\n      <td>Married</td>\n      <td>5</td>\n      <td>94</td>\n      <td>0</td>\n      <td>1981</td>\n      <td>0</td>\n    </tr>\n    <tr>\n      <th>...</th>\n      <td>...</td>\n      <td>...</td>\n      <td>...</td>\n      <td>...</td>\n      <td>...</td>\n      <td>...</td>\n      <td>...</td>\n      <td>...</td>\n      <td>...</td>\n      <td>...</td>\n    </tr>\n    <tr>\n      <th>2235</th>\n      <td>13-06-2013</td>\n      <td>Graduation</td>\n      <td>61223.0</td>\n      <td>0</td>\n      <td>Married</td>\n      <td>2</td>\n      <td>46</td>\n      <td>1</td>\n      <td>1967</td>\n      <td>0</td>\n    </tr>\n    <tr>\n      <th>2236</th>\n      <td>10-06-2014</td>\n      <td>PhD</td>\n      <td>64014.0</td>\n      <td>2</td>\n      <td>Together</td>\n      <td>7</td>\n      <td>56</td>\n      <td>1</td>\n      <td>1946</td>\n      <td>1</td>\n    </tr>\n    <tr>\n      <th>2237</th>\n      <td>25-01-2014</td>\n      <td>Graduation</td>\n      <td>56981.0</td>\n      <td>0</td>\n      <td>Divorced</td>\n      <td>1</td>\n      <td>91</td>\n      <td>0</td>\n      <td>1981</td>\n      <td>4</td>\n    </tr>\n    <tr>\n      <th>2238</th>\n      <td>24-01-2014</td>\n      <td>Master</td>\n      <td>69245.0</td>\n      <td>0</td>\n      <td>Together</td>\n      <td>2</td>\n      <td>8</td>\n      <td>1</td>\n      <td>1956</td>\n      <td>0</td>\n    </tr>\n    <tr>\n      <th>2239</th>\n      <td>15-10-2012</td>\n      <td>PhD</td>\n      <td>52869.0</td>\n      <td>1</td>\n      <td>Married</td>\n      <td>3</td>\n      <td>40</td>\n      <td>1</td>\n      <td>1954</td>\n      <td>0</td>\n    </tr>\n  </tbody>\n</table>\n<p>2237 rows × 10 columns</p>\n</div>"
     },
     "execution_count": 49,
     "metadata": {},
     "output_type": "execute_result"
    }
   ],
   "source": [
    "data = data[data.Year_Birth >= 1940][:]\n",
    "\n",
    "data"
   ],
   "metadata": {
    "collapsed": false
   }
  },
  {
   "cell_type": "markdown",
   "source": [
    "# TODO: Convert strings to numerical value"
   ],
   "metadata": {
    "collapsed": false
   }
  },
  {
   "cell_type": "markdown",
   "source": [
    "**Education ->**\n",
    "     Basic = 0\n",
    "     2n Cycle = 1\n",
    "     Graduation= 2\n",
    "     Master = 3\n",
    "     PhD = 4\n",
    "**Marital_Status ->**\n",
    "    Absurd, Alone, YOLO, Single = 0\n",
    "    Divorced, Widow = 1\n",
    "    Together = 2\n",
    "    Married = 3"
   ],
   "metadata": {
    "collapsed": false
   }
  },
  {
   "cell_type": "code",
   "execution_count": 50,
   "outputs": [
    {
     "data": {
      "text/plain": "     Dt_Customer  Education   Income  Kidhome Marital_Status  \\\n0     04-09-2012          2  58138.0        0              0   \n1     08-03-2014          2  46344.0        1              0   \n2     21-08-2013          2  71613.0        0              2   \n3     10-02-2014          2  26646.0        1              2   \n4     19-01-2014          4  58293.0        1              3   \n...          ...        ...      ...      ...            ...   \n2235  13-06-2013          2  61223.0        0              3   \n2236  10-06-2014          4  64014.0        2              2   \n2237  25-01-2014          2  56981.0        0              1   \n2238  24-01-2014          3  69245.0        0              2   \n2239  15-10-2012          4  52869.0        1              3   \n\n      NumDealsPurchases  Recency  Teenhome  Year_Birth  Succesful_cmp  \n0                     3       58         0        1957              0  \n1                     2       38         1        1954              0  \n2                     1       26         0        1965              0  \n3                     2       26         0        1984              0  \n4                     5       94         0        1981              0  \n...                 ...      ...       ...         ...            ...  \n2235                  2       46         1        1967              0  \n2236                  7       56         1        1946              1  \n2237                  1       91         0        1981              4  \n2238                  2        8         1        1956              0  \n2239                  3       40         1        1954              0  \n\n[2237 rows x 10 columns]",
      "text/html": "<div>\n<style scoped>\n    .dataframe tbody tr th:only-of-type {\n        vertical-align: middle;\n    }\n\n    .dataframe tbody tr th {\n        vertical-align: top;\n    }\n\n    .dataframe thead th {\n        text-align: right;\n    }\n</style>\n<table border=\"1\" class=\"dataframe\">\n  <thead>\n    <tr style=\"text-align: right;\">\n      <th></th>\n      <th>Dt_Customer</th>\n      <th>Education</th>\n      <th>Income</th>\n      <th>Kidhome</th>\n      <th>Marital_Status</th>\n      <th>NumDealsPurchases</th>\n      <th>Recency</th>\n      <th>Teenhome</th>\n      <th>Year_Birth</th>\n      <th>Succesful_cmp</th>\n    </tr>\n  </thead>\n  <tbody>\n    <tr>\n      <th>0</th>\n      <td>04-09-2012</td>\n      <td>2</td>\n      <td>58138.0</td>\n      <td>0</td>\n      <td>0</td>\n      <td>3</td>\n      <td>58</td>\n      <td>0</td>\n      <td>1957</td>\n      <td>0</td>\n    </tr>\n    <tr>\n      <th>1</th>\n      <td>08-03-2014</td>\n      <td>2</td>\n      <td>46344.0</td>\n      <td>1</td>\n      <td>0</td>\n      <td>2</td>\n      <td>38</td>\n      <td>1</td>\n      <td>1954</td>\n      <td>0</td>\n    </tr>\n    <tr>\n      <th>2</th>\n      <td>21-08-2013</td>\n      <td>2</td>\n      <td>71613.0</td>\n      <td>0</td>\n      <td>2</td>\n      <td>1</td>\n      <td>26</td>\n      <td>0</td>\n      <td>1965</td>\n      <td>0</td>\n    </tr>\n    <tr>\n      <th>3</th>\n      <td>10-02-2014</td>\n      <td>2</td>\n      <td>26646.0</td>\n      <td>1</td>\n      <td>2</td>\n      <td>2</td>\n      <td>26</td>\n      <td>0</td>\n      <td>1984</td>\n      <td>0</td>\n    </tr>\n    <tr>\n      <th>4</th>\n      <td>19-01-2014</td>\n      <td>4</td>\n      <td>58293.0</td>\n      <td>1</td>\n      <td>3</td>\n      <td>5</td>\n      <td>94</td>\n      <td>0</td>\n      <td>1981</td>\n      <td>0</td>\n    </tr>\n    <tr>\n      <th>...</th>\n      <td>...</td>\n      <td>...</td>\n      <td>...</td>\n      <td>...</td>\n      <td>...</td>\n      <td>...</td>\n      <td>...</td>\n      <td>...</td>\n      <td>...</td>\n      <td>...</td>\n    </tr>\n    <tr>\n      <th>2235</th>\n      <td>13-06-2013</td>\n      <td>2</td>\n      <td>61223.0</td>\n      <td>0</td>\n      <td>3</td>\n      <td>2</td>\n      <td>46</td>\n      <td>1</td>\n      <td>1967</td>\n      <td>0</td>\n    </tr>\n    <tr>\n      <th>2236</th>\n      <td>10-06-2014</td>\n      <td>4</td>\n      <td>64014.0</td>\n      <td>2</td>\n      <td>2</td>\n      <td>7</td>\n      <td>56</td>\n      <td>1</td>\n      <td>1946</td>\n      <td>1</td>\n    </tr>\n    <tr>\n      <th>2237</th>\n      <td>25-01-2014</td>\n      <td>2</td>\n      <td>56981.0</td>\n      <td>0</td>\n      <td>1</td>\n      <td>1</td>\n      <td>91</td>\n      <td>0</td>\n      <td>1981</td>\n      <td>4</td>\n    </tr>\n    <tr>\n      <th>2238</th>\n      <td>24-01-2014</td>\n      <td>3</td>\n      <td>69245.0</td>\n      <td>0</td>\n      <td>2</td>\n      <td>2</td>\n      <td>8</td>\n      <td>1</td>\n      <td>1956</td>\n      <td>0</td>\n    </tr>\n    <tr>\n      <th>2239</th>\n      <td>15-10-2012</td>\n      <td>4</td>\n      <td>52869.0</td>\n      <td>1</td>\n      <td>3</td>\n      <td>3</td>\n      <td>40</td>\n      <td>1</td>\n      <td>1954</td>\n      <td>0</td>\n    </tr>\n  </tbody>\n</table>\n<p>2237 rows × 10 columns</p>\n</div>"
     },
     "execution_count": 50,
     "metadata": {},
     "output_type": "execute_result"
    }
   ],
   "source": [
    "data['Marital_Status'] = data['Marital_Status'].replace({'Alone': 'Single', 'Absurd': 'Single', 'YOLO': 'Single'})\n",
    "\n",
    "data['Marital_Status'] = data['Marital_Status'].replace(\n",
    "    {'Single': 0, 'Divorced': '1', 'Widow': '1', 'Together': 2, 'Married': 3})\n",
    "data['Education'] = data['Education'].replace({'Basic': 0, '2n Cycle': 1, 'Graduation': 2, 'Master': 3, 'PhD': 4})\n",
    "\n",
    "data"
   ],
   "metadata": {
    "collapsed": false
   }
  },
  {
   "cell_type": "markdown",
   "source": [
    "**Save edited DataFrame as CSV 'transformedData.csv'**"
   ],
   "metadata": {
    "collapsed": false
   }
  },
  {
   "cell_type": "code",
   "execution_count": 3,
   "outputs": [
    {
     "data": {
      "text/plain": "     Dt_Customer  Education   Income  Kidhome  Marital_Status  \\\n0     04-09-2012          2  58138.0        0               0   \n1     08-03-2014          2  46344.0        1               0   \n2     21-08-2013          2  71613.0        0               2   \n3     10-02-2014          2  26646.0        1               2   \n4     19-01-2014          4  58293.0        1               3   \n...          ...        ...      ...      ...             ...   \n2232  13-06-2013          2  61223.0        0               3   \n2233  10-06-2014          4  64014.0        2               2   \n2234  25-01-2014          2  56981.0        0               1   \n2235  24-01-2014          3  69245.0        0               2   \n2236  15-10-2012          4  52869.0        1               3   \n\n      NumDealsPurchases  Recency  Teenhome  Year_Birth  Succesful_cmp  \n0                     3       58         0        1957              0  \n1                     2       38         1        1954              0  \n2                     1       26         0        1965              0  \n3                     2       26         0        1984              0  \n4                     5       94         0        1981              0  \n...                 ...      ...       ...         ...            ...  \n2232                  2       46         1        1967              0  \n2233                  7       56         1        1946              1  \n2234                  1       91         0        1981              4  \n2235                  2        8         1        1956              0  \n2236                  3       40         1        1954              0  \n\n[2237 rows x 10 columns]",
      "text/html": "<div>\n<style scoped>\n    .dataframe tbody tr th:only-of-type {\n        vertical-align: middle;\n    }\n\n    .dataframe tbody tr th {\n        vertical-align: top;\n    }\n\n    .dataframe thead th {\n        text-align: right;\n    }\n</style>\n<table border=\"1\" class=\"dataframe\">\n  <thead>\n    <tr style=\"text-align: right;\">\n      <th></th>\n      <th>Dt_Customer</th>\n      <th>Education</th>\n      <th>Income</th>\n      <th>Kidhome</th>\n      <th>Marital_Status</th>\n      <th>NumDealsPurchases</th>\n      <th>Recency</th>\n      <th>Teenhome</th>\n      <th>Year_Birth</th>\n      <th>Succesful_cmp</th>\n    </tr>\n  </thead>\n  <tbody>\n    <tr>\n      <th>0</th>\n      <td>04-09-2012</td>\n      <td>2</td>\n      <td>58138.0</td>\n      <td>0</td>\n      <td>0</td>\n      <td>3</td>\n      <td>58</td>\n      <td>0</td>\n      <td>1957</td>\n      <td>0</td>\n    </tr>\n    <tr>\n      <th>1</th>\n      <td>08-03-2014</td>\n      <td>2</td>\n      <td>46344.0</td>\n      <td>1</td>\n      <td>0</td>\n      <td>2</td>\n      <td>38</td>\n      <td>1</td>\n      <td>1954</td>\n      <td>0</td>\n    </tr>\n    <tr>\n      <th>2</th>\n      <td>21-08-2013</td>\n      <td>2</td>\n      <td>71613.0</td>\n      <td>0</td>\n      <td>2</td>\n      <td>1</td>\n      <td>26</td>\n      <td>0</td>\n      <td>1965</td>\n      <td>0</td>\n    </tr>\n    <tr>\n      <th>3</th>\n      <td>10-02-2014</td>\n      <td>2</td>\n      <td>26646.0</td>\n      <td>1</td>\n      <td>2</td>\n      <td>2</td>\n      <td>26</td>\n      <td>0</td>\n      <td>1984</td>\n      <td>0</td>\n    </tr>\n    <tr>\n      <th>4</th>\n      <td>19-01-2014</td>\n      <td>4</td>\n      <td>58293.0</td>\n      <td>1</td>\n      <td>3</td>\n      <td>5</td>\n      <td>94</td>\n      <td>0</td>\n      <td>1981</td>\n      <td>0</td>\n    </tr>\n    <tr>\n      <th>...</th>\n      <td>...</td>\n      <td>...</td>\n      <td>...</td>\n      <td>...</td>\n      <td>...</td>\n      <td>...</td>\n      <td>...</td>\n      <td>...</td>\n      <td>...</td>\n      <td>...</td>\n    </tr>\n    <tr>\n      <th>2232</th>\n      <td>13-06-2013</td>\n      <td>2</td>\n      <td>61223.0</td>\n      <td>0</td>\n      <td>3</td>\n      <td>2</td>\n      <td>46</td>\n      <td>1</td>\n      <td>1967</td>\n      <td>0</td>\n    </tr>\n    <tr>\n      <th>2233</th>\n      <td>10-06-2014</td>\n      <td>4</td>\n      <td>64014.0</td>\n      <td>2</td>\n      <td>2</td>\n      <td>7</td>\n      <td>56</td>\n      <td>1</td>\n      <td>1946</td>\n      <td>1</td>\n    </tr>\n    <tr>\n      <th>2234</th>\n      <td>25-01-2014</td>\n      <td>2</td>\n      <td>56981.0</td>\n      <td>0</td>\n      <td>1</td>\n      <td>1</td>\n      <td>91</td>\n      <td>0</td>\n      <td>1981</td>\n      <td>4</td>\n    </tr>\n    <tr>\n      <th>2235</th>\n      <td>24-01-2014</td>\n      <td>3</td>\n      <td>69245.0</td>\n      <td>0</td>\n      <td>2</td>\n      <td>2</td>\n      <td>8</td>\n      <td>1</td>\n      <td>1956</td>\n      <td>0</td>\n    </tr>\n    <tr>\n      <th>2236</th>\n      <td>15-10-2012</td>\n      <td>4</td>\n      <td>52869.0</td>\n      <td>1</td>\n      <td>3</td>\n      <td>3</td>\n      <td>40</td>\n      <td>1</td>\n      <td>1954</td>\n      <td>0</td>\n    </tr>\n  </tbody>\n</table>\n<p>2237 rows × 10 columns</p>\n</div>"
     },
     "execution_count": 3,
     "metadata": {},
     "output_type": "execute_result"
    }
   ],
   "source": [
    "editedData = pd.read_csv('out.csv')\n",
    "\n",
    "editedData"
   ],
   "metadata": {
    "collapsed": false
   }
  },
  {
   "cell_type": "code",
   "execution_count": 8,
   "outputs": [
    {
     "data": {
      "text/plain": "     Dt_Customer  Education   Income  Kidhome  Marital_Status  \\\n0     2012-04-09          2  58138.0        0               0   \n1     2014-08-03          2  46344.0        1               0   \n2     2013-08-21          2  71613.0        0               2   \n3     2014-10-02          2  26646.0        1               2   \n4     2014-01-19          4  58293.0        1               3   \n...          ...        ...      ...      ...             ...   \n2232  2013-06-13          2  61223.0        0               3   \n2233  2014-10-06          4  64014.0        2               2   \n2234  2014-01-25          2  56981.0        0               1   \n2235  2014-01-24          3  69245.0        0               2   \n2236  2012-10-15          4  52869.0        1               3   \n\n      NumDealsPurchases  Recency  Teenhome  Year_Birth  Succesful_cmp  \n0                     3       58         0        1957              0  \n1                     2       38         1        1954              0  \n2                     1       26         0        1965              0  \n3                     2       26         0        1984              0  \n4                     5       94         0        1981              0  \n...                 ...      ...       ...         ...            ...  \n2232                  2       46         1        1967              0  \n2233                  7       56         1        1946              1  \n2234                  1       91         0        1981              4  \n2235                  2        8         1        1956              0  \n2236                  3       40         1        1954              0  \n\n[2237 rows x 10 columns]",
      "text/html": "<div>\n<style scoped>\n    .dataframe tbody tr th:only-of-type {\n        vertical-align: middle;\n    }\n\n    .dataframe tbody tr th {\n        vertical-align: top;\n    }\n\n    .dataframe thead th {\n        text-align: right;\n    }\n</style>\n<table border=\"1\" class=\"dataframe\">\n  <thead>\n    <tr style=\"text-align: right;\">\n      <th></th>\n      <th>Dt_Customer</th>\n      <th>Education</th>\n      <th>Income</th>\n      <th>Kidhome</th>\n      <th>Marital_Status</th>\n      <th>NumDealsPurchases</th>\n      <th>Recency</th>\n      <th>Teenhome</th>\n      <th>Year_Birth</th>\n      <th>Succesful_cmp</th>\n    </tr>\n  </thead>\n  <tbody>\n    <tr>\n      <th>0</th>\n      <td>2012-04-09</td>\n      <td>2</td>\n      <td>58138.0</td>\n      <td>0</td>\n      <td>0</td>\n      <td>3</td>\n      <td>58</td>\n      <td>0</td>\n      <td>1957</td>\n      <td>0</td>\n    </tr>\n    <tr>\n      <th>1</th>\n      <td>2014-08-03</td>\n      <td>2</td>\n      <td>46344.0</td>\n      <td>1</td>\n      <td>0</td>\n      <td>2</td>\n      <td>38</td>\n      <td>1</td>\n      <td>1954</td>\n      <td>0</td>\n    </tr>\n    <tr>\n      <th>2</th>\n      <td>2013-08-21</td>\n      <td>2</td>\n      <td>71613.0</td>\n      <td>0</td>\n      <td>2</td>\n      <td>1</td>\n      <td>26</td>\n      <td>0</td>\n      <td>1965</td>\n      <td>0</td>\n    </tr>\n    <tr>\n      <th>3</th>\n      <td>2014-10-02</td>\n      <td>2</td>\n      <td>26646.0</td>\n      <td>1</td>\n      <td>2</td>\n      <td>2</td>\n      <td>26</td>\n      <td>0</td>\n      <td>1984</td>\n      <td>0</td>\n    </tr>\n    <tr>\n      <th>4</th>\n      <td>2014-01-19</td>\n      <td>4</td>\n      <td>58293.0</td>\n      <td>1</td>\n      <td>3</td>\n      <td>5</td>\n      <td>94</td>\n      <td>0</td>\n      <td>1981</td>\n      <td>0</td>\n    </tr>\n    <tr>\n      <th>...</th>\n      <td>...</td>\n      <td>...</td>\n      <td>...</td>\n      <td>...</td>\n      <td>...</td>\n      <td>...</td>\n      <td>...</td>\n      <td>...</td>\n      <td>...</td>\n      <td>...</td>\n    </tr>\n    <tr>\n      <th>2232</th>\n      <td>2013-06-13</td>\n      <td>2</td>\n      <td>61223.0</td>\n      <td>0</td>\n      <td>3</td>\n      <td>2</td>\n      <td>46</td>\n      <td>1</td>\n      <td>1967</td>\n      <td>0</td>\n    </tr>\n    <tr>\n      <th>2233</th>\n      <td>2014-10-06</td>\n      <td>4</td>\n      <td>64014.0</td>\n      <td>2</td>\n      <td>2</td>\n      <td>7</td>\n      <td>56</td>\n      <td>1</td>\n      <td>1946</td>\n      <td>1</td>\n    </tr>\n    <tr>\n      <th>2234</th>\n      <td>2014-01-25</td>\n      <td>2</td>\n      <td>56981.0</td>\n      <td>0</td>\n      <td>1</td>\n      <td>1</td>\n      <td>91</td>\n      <td>0</td>\n      <td>1981</td>\n      <td>4</td>\n    </tr>\n    <tr>\n      <th>2235</th>\n      <td>2014-01-24</td>\n      <td>3</td>\n      <td>69245.0</td>\n      <td>0</td>\n      <td>2</td>\n      <td>2</td>\n      <td>8</td>\n      <td>1</td>\n      <td>1956</td>\n      <td>0</td>\n    </tr>\n    <tr>\n      <th>2236</th>\n      <td>2012-10-15</td>\n      <td>4</td>\n      <td>52869.0</td>\n      <td>1</td>\n      <td>3</td>\n      <td>3</td>\n      <td>40</td>\n      <td>1</td>\n      <td>1954</td>\n      <td>0</td>\n    </tr>\n  </tbody>\n</table>\n<p>2237 rows × 10 columns</p>\n</div>"
     },
     "execution_count": 8,
     "metadata": {},
     "output_type": "execute_result"
    }
   ],
   "source": [
    "editedData.Dt_Customer = pd.to_datetime(editedData.Dt_Customer, dayfirst=True)\n",
    "\n",
    "editedData"
   ],
   "metadata": {
    "collapsed": false
   }
  },
  {
   "cell_type": "code",
   "execution_count": 10,
   "outputs": [
    {
     "data": {
      "text/plain": "     Dt_Customer  Education   Income  Kidhome  Marital_Status  \\\n0     2012-04-09          2  58138.0        0               0   \n1     2014-08-03          2  46344.0        1               0   \n2     2013-08-21          2  71613.0        0               2   \n3     2014-10-02          2  26646.0        1               2   \n4     2014-01-19          4  58293.0        1               3   \n...          ...        ...      ...      ...             ...   \n2232  2013-06-13          2  61223.0        0               3   \n2233  2014-10-06          4  64014.0        2               2   \n2234  2014-01-25          2  56981.0        0               1   \n2235  2014-01-24          3  69245.0        0               2   \n2236  2012-10-15          4  52869.0        1               3   \n\n      NumDealsPurchases  Recency  Teenhome  Year_Birth  Succesful_cmp  \\\n0                     3       58         0        1957              0   \n1                     2       38         1        1954              0   \n2                     1       26         0        1965              0   \n3                     2       26         0        1984              0   \n4                     5       94         0        1981              0   \n...                 ...      ...       ...         ...            ...   \n2232                  2       46         1        1967              0   \n2233                  7       56         1        1946              1   \n2234                  1       91         0        1981              4   \n2235                  2        8         1        1956              0   \n2236                  3       40         1        1954              0   \n\n      Months_After_2012  \n0                     4  \n1                    32  \n2                    20  \n3                    34  \n4                    25  \n...                 ...  \n2232                 18  \n2233                 34  \n2234                 25  \n2235                 25  \n2236                 10  \n\n[2237 rows x 11 columns]",
      "text/html": "<div>\n<style scoped>\n    .dataframe tbody tr th:only-of-type {\n        vertical-align: middle;\n    }\n\n    .dataframe tbody tr th {\n        vertical-align: top;\n    }\n\n    .dataframe thead th {\n        text-align: right;\n    }\n</style>\n<table border=\"1\" class=\"dataframe\">\n  <thead>\n    <tr style=\"text-align: right;\">\n      <th></th>\n      <th>Dt_Customer</th>\n      <th>Education</th>\n      <th>Income</th>\n      <th>Kidhome</th>\n      <th>Marital_Status</th>\n      <th>NumDealsPurchases</th>\n      <th>Recency</th>\n      <th>Teenhome</th>\n      <th>Year_Birth</th>\n      <th>Succesful_cmp</th>\n      <th>Months_After_2012</th>\n    </tr>\n  </thead>\n  <tbody>\n    <tr>\n      <th>0</th>\n      <td>2012-04-09</td>\n      <td>2</td>\n      <td>58138.0</td>\n      <td>0</td>\n      <td>0</td>\n      <td>3</td>\n      <td>58</td>\n      <td>0</td>\n      <td>1957</td>\n      <td>0</td>\n      <td>4</td>\n    </tr>\n    <tr>\n      <th>1</th>\n      <td>2014-08-03</td>\n      <td>2</td>\n      <td>46344.0</td>\n      <td>1</td>\n      <td>0</td>\n      <td>2</td>\n      <td>38</td>\n      <td>1</td>\n      <td>1954</td>\n      <td>0</td>\n      <td>32</td>\n    </tr>\n    <tr>\n      <th>2</th>\n      <td>2013-08-21</td>\n      <td>2</td>\n      <td>71613.0</td>\n      <td>0</td>\n      <td>2</td>\n      <td>1</td>\n      <td>26</td>\n      <td>0</td>\n      <td>1965</td>\n      <td>0</td>\n      <td>20</td>\n    </tr>\n    <tr>\n      <th>3</th>\n      <td>2014-10-02</td>\n      <td>2</td>\n      <td>26646.0</td>\n      <td>1</td>\n      <td>2</td>\n      <td>2</td>\n      <td>26</td>\n      <td>0</td>\n      <td>1984</td>\n      <td>0</td>\n      <td>34</td>\n    </tr>\n    <tr>\n      <th>4</th>\n      <td>2014-01-19</td>\n      <td>4</td>\n      <td>58293.0</td>\n      <td>1</td>\n      <td>3</td>\n      <td>5</td>\n      <td>94</td>\n      <td>0</td>\n      <td>1981</td>\n      <td>0</td>\n      <td>25</td>\n    </tr>\n    <tr>\n      <th>...</th>\n      <td>...</td>\n      <td>...</td>\n      <td>...</td>\n      <td>...</td>\n      <td>...</td>\n      <td>...</td>\n      <td>...</td>\n      <td>...</td>\n      <td>...</td>\n      <td>...</td>\n      <td>...</td>\n    </tr>\n    <tr>\n      <th>2232</th>\n      <td>2013-06-13</td>\n      <td>2</td>\n      <td>61223.0</td>\n      <td>0</td>\n      <td>3</td>\n      <td>2</td>\n      <td>46</td>\n      <td>1</td>\n      <td>1967</td>\n      <td>0</td>\n      <td>18</td>\n    </tr>\n    <tr>\n      <th>2233</th>\n      <td>2014-10-06</td>\n      <td>4</td>\n      <td>64014.0</td>\n      <td>2</td>\n      <td>2</td>\n      <td>7</td>\n      <td>56</td>\n      <td>1</td>\n      <td>1946</td>\n      <td>1</td>\n      <td>34</td>\n    </tr>\n    <tr>\n      <th>2234</th>\n      <td>2014-01-25</td>\n      <td>2</td>\n      <td>56981.0</td>\n      <td>0</td>\n      <td>1</td>\n      <td>1</td>\n      <td>91</td>\n      <td>0</td>\n      <td>1981</td>\n      <td>4</td>\n      <td>25</td>\n    </tr>\n    <tr>\n      <th>2235</th>\n      <td>2014-01-24</td>\n      <td>3</td>\n      <td>69245.0</td>\n      <td>0</td>\n      <td>2</td>\n      <td>2</td>\n      <td>8</td>\n      <td>1</td>\n      <td>1956</td>\n      <td>0</td>\n      <td>25</td>\n    </tr>\n    <tr>\n      <th>2236</th>\n      <td>2012-10-15</td>\n      <td>4</td>\n      <td>52869.0</td>\n      <td>1</td>\n      <td>3</td>\n      <td>3</td>\n      <td>40</td>\n      <td>1</td>\n      <td>1954</td>\n      <td>0</td>\n      <td>10</td>\n    </tr>\n  </tbody>\n</table>\n<p>2237 rows × 11 columns</p>\n</div>"
     },
     "execution_count": 10,
     "metadata": {},
     "output_type": "execute_result"
    }
   ],
   "source": [
    "year, month = 0, 0\n",
    "\n",
    "months = []\n",
    "\n",
    "for i in range(editedData.shape[0]):\n",
    "    year = editedData.iloc[i]['Dt_Customer'].year\n",
    "    month = editedData.iloc[i]['Dt_Customer'].month\n",
    "\n",
    "    if year == 2012:\n",
    "        months.append(month)\n",
    "    elif year == 2013:\n",
    "        months.append((12 + month))\n",
    "    elif year == 2014:\n",
    "        months.append((24 + month))\n",
    "\n",
    "editedData['Months_After_2012'] = months\n",
    "\n",
    "\n",
    "editedData.drop('Dt_Customer',axis=1)\n",
    "\n",
    "editedData"
   ],
   "metadata": {
    "collapsed": false
   }
  },
  {
   "cell_type": "code",
   "execution_count": 12,
   "outputs": [
    {
     "data": {
      "text/plain": "      Education   Income  Kidhome  Marital_Status  NumDealsPurchases  Recency  \\\n0             2  58138.0        0               0                  3       58   \n1             2  46344.0        1               0                  2       38   \n2             2  71613.0        0               2                  1       26   \n3             2  26646.0        1               2                  2       26   \n4             4  58293.0        1               3                  5       94   \n...         ...      ...      ...             ...                ...      ...   \n2232          2  61223.0        0               3                  2       46   \n2233          4  64014.0        2               2                  7       56   \n2234          2  56981.0        0               1                  1       91   \n2235          3  69245.0        0               2                  2        8   \n2236          4  52869.0        1               3                  3       40   \n\n      Teenhome  Year_Birth  Succesful_cmp  Months_After_2012  \n0            0        1957              0                  4  \n1            1        1954              0                 32  \n2            0        1965              0                 20  \n3            0        1984              0                 34  \n4            0        1981              0                 25  \n...        ...         ...            ...                ...  \n2232         1        1967              0                 18  \n2233         1        1946              1                 34  \n2234         0        1981              4                 25  \n2235         1        1956              0                 25  \n2236         1        1954              0                 10  \n\n[2237 rows x 10 columns]",
      "text/html": "<div>\n<style scoped>\n    .dataframe tbody tr th:only-of-type {\n        vertical-align: middle;\n    }\n\n    .dataframe tbody tr th {\n        vertical-align: top;\n    }\n\n    .dataframe thead th {\n        text-align: right;\n    }\n</style>\n<table border=\"1\" class=\"dataframe\">\n  <thead>\n    <tr style=\"text-align: right;\">\n      <th></th>\n      <th>Education</th>\n      <th>Income</th>\n      <th>Kidhome</th>\n      <th>Marital_Status</th>\n      <th>NumDealsPurchases</th>\n      <th>Recency</th>\n      <th>Teenhome</th>\n      <th>Year_Birth</th>\n      <th>Succesful_cmp</th>\n      <th>Months_After_2012</th>\n    </tr>\n  </thead>\n  <tbody>\n    <tr>\n      <th>0</th>\n      <td>2</td>\n      <td>58138.0</td>\n      <td>0</td>\n      <td>0</td>\n      <td>3</td>\n      <td>58</td>\n      <td>0</td>\n      <td>1957</td>\n      <td>0</td>\n      <td>4</td>\n    </tr>\n    <tr>\n      <th>1</th>\n      <td>2</td>\n      <td>46344.0</td>\n      <td>1</td>\n      <td>0</td>\n      <td>2</td>\n      <td>38</td>\n      <td>1</td>\n      <td>1954</td>\n      <td>0</td>\n      <td>32</td>\n    </tr>\n    <tr>\n      <th>2</th>\n      <td>2</td>\n      <td>71613.0</td>\n      <td>0</td>\n      <td>2</td>\n      <td>1</td>\n      <td>26</td>\n      <td>0</td>\n      <td>1965</td>\n      <td>0</td>\n      <td>20</td>\n    </tr>\n    <tr>\n      <th>3</th>\n      <td>2</td>\n      <td>26646.0</td>\n      <td>1</td>\n      <td>2</td>\n      <td>2</td>\n      <td>26</td>\n      <td>0</td>\n      <td>1984</td>\n      <td>0</td>\n      <td>34</td>\n    </tr>\n    <tr>\n      <th>4</th>\n      <td>4</td>\n      <td>58293.0</td>\n      <td>1</td>\n      <td>3</td>\n      <td>5</td>\n      <td>94</td>\n      <td>0</td>\n      <td>1981</td>\n      <td>0</td>\n      <td>25</td>\n    </tr>\n    <tr>\n      <th>...</th>\n      <td>...</td>\n      <td>...</td>\n      <td>...</td>\n      <td>...</td>\n      <td>...</td>\n      <td>...</td>\n      <td>...</td>\n      <td>...</td>\n      <td>...</td>\n      <td>...</td>\n    </tr>\n    <tr>\n      <th>2232</th>\n      <td>2</td>\n      <td>61223.0</td>\n      <td>0</td>\n      <td>3</td>\n      <td>2</td>\n      <td>46</td>\n      <td>1</td>\n      <td>1967</td>\n      <td>0</td>\n      <td>18</td>\n    </tr>\n    <tr>\n      <th>2233</th>\n      <td>4</td>\n      <td>64014.0</td>\n      <td>2</td>\n      <td>2</td>\n      <td>7</td>\n      <td>56</td>\n      <td>1</td>\n      <td>1946</td>\n      <td>1</td>\n      <td>34</td>\n    </tr>\n    <tr>\n      <th>2234</th>\n      <td>2</td>\n      <td>56981.0</td>\n      <td>0</td>\n      <td>1</td>\n      <td>1</td>\n      <td>91</td>\n      <td>0</td>\n      <td>1981</td>\n      <td>4</td>\n      <td>25</td>\n    </tr>\n    <tr>\n      <th>2235</th>\n      <td>3</td>\n      <td>69245.0</td>\n      <td>0</td>\n      <td>2</td>\n      <td>2</td>\n      <td>8</td>\n      <td>1</td>\n      <td>1956</td>\n      <td>0</td>\n      <td>25</td>\n    </tr>\n    <tr>\n      <th>2236</th>\n      <td>4</td>\n      <td>52869.0</td>\n      <td>1</td>\n      <td>3</td>\n      <td>3</td>\n      <td>40</td>\n      <td>1</td>\n      <td>1954</td>\n      <td>0</td>\n      <td>10</td>\n    </tr>\n  </tbody>\n</table>\n<p>2237 rows × 10 columns</p>\n</div>"
     },
     "execution_count": 12,
     "metadata": {},
     "output_type": "execute_result"
    }
   ],
   "source": [
    "editedData = editedData.drop('Dt_Customer',axis=1)\n",
    "\n",
    "editedData"
   ],
   "metadata": {
    "collapsed": false
   }
  },
  {
   "cell_type": "code",
   "execution_count": 13,
   "outputs": [],
   "source": [
    "#Save edited DT to permanent CSV\n",
    "editedData.to_csv(\"C:/Users/andre/PycharmProjects/MachineLearningOmega/out1.csv\", index=False)"
   ],
   "metadata": {
    "collapsed": false
   }
  },
  {
   "cell_type": "markdown",
   "source": [
    "**Replace NaN Income values with mean of Income**"
   ],
   "metadata": {
    "collapsed": false
   }
  },
  {
   "cell_type": "code",
   "execution_count": 35,
   "outputs": [],
   "source": [
    "data = pd.read_csv(\"out1.csv\",na_values=\"NAN\");\n",
    "data['Income'] = data['Income'].fillna(value=data['Income'].mean())"
   ],
   "metadata": {
    "collapsed": false
   }
  },
  {
   "cell_type": "code",
   "execution_count": 36,
   "outputs": [
    {
     "data": {
      "text/plain": "      Education   Income  Kidhome  Marital_Status  NumDealsPurchases  Recency  \\\n0             2  58138.0        0               0                  3       58   \n1             2  46344.0        1               0                  2       38   \n2             2  71613.0        0               2                  1       26   \n3             2  26646.0        1               2                  2       26   \n4             4  58293.0        1               3                  5       94   \n...         ...      ...      ...             ...                ...      ...   \n2232          2  61223.0        0               3                  2       46   \n2233          4  64014.0        2               2                  7       56   \n2234          2  56981.0        0               1                  1       91   \n2235          3  69245.0        0               2                  2        8   \n2236          4  52869.0        1               3                  3       40   \n\n      Teenhome  Year_Birth  Succesful_cmp  Months_After_2012  \n0            0        1957              0                  4  \n1            1        1954              0                 32  \n2            0        1965              0                 20  \n3            0        1984              0                 34  \n4            0        1981              0                 25  \n...        ...         ...            ...                ...  \n2232         1        1967              0                 18  \n2233         1        1946              1                 34  \n2234         0        1981              4                 25  \n2235         1        1956              0                 25  \n2236         1        1954              0                 10  \n\n[2237 rows x 10 columns]",
      "text/html": "<div>\n<style scoped>\n    .dataframe tbody tr th:only-of-type {\n        vertical-align: middle;\n    }\n\n    .dataframe tbody tr th {\n        vertical-align: top;\n    }\n\n    .dataframe thead th {\n        text-align: right;\n    }\n</style>\n<table border=\"1\" class=\"dataframe\">\n  <thead>\n    <tr style=\"text-align: right;\">\n      <th></th>\n      <th>Education</th>\n      <th>Income</th>\n      <th>Kidhome</th>\n      <th>Marital_Status</th>\n      <th>NumDealsPurchases</th>\n      <th>Recency</th>\n      <th>Teenhome</th>\n      <th>Year_Birth</th>\n      <th>Succesful_cmp</th>\n      <th>Months_After_2012</th>\n    </tr>\n  </thead>\n  <tbody>\n    <tr>\n      <th>0</th>\n      <td>2</td>\n      <td>58138.0</td>\n      <td>0</td>\n      <td>0</td>\n      <td>3</td>\n      <td>58</td>\n      <td>0</td>\n      <td>1957</td>\n      <td>0</td>\n      <td>4</td>\n    </tr>\n    <tr>\n      <th>1</th>\n      <td>2</td>\n      <td>46344.0</td>\n      <td>1</td>\n      <td>0</td>\n      <td>2</td>\n      <td>38</td>\n      <td>1</td>\n      <td>1954</td>\n      <td>0</td>\n      <td>32</td>\n    </tr>\n    <tr>\n      <th>2</th>\n      <td>2</td>\n      <td>71613.0</td>\n      <td>0</td>\n      <td>2</td>\n      <td>1</td>\n      <td>26</td>\n      <td>0</td>\n      <td>1965</td>\n      <td>0</td>\n      <td>20</td>\n    </tr>\n    <tr>\n      <th>3</th>\n      <td>2</td>\n      <td>26646.0</td>\n      <td>1</td>\n      <td>2</td>\n      <td>2</td>\n      <td>26</td>\n      <td>0</td>\n      <td>1984</td>\n      <td>0</td>\n      <td>34</td>\n    </tr>\n    <tr>\n      <th>4</th>\n      <td>4</td>\n      <td>58293.0</td>\n      <td>1</td>\n      <td>3</td>\n      <td>5</td>\n      <td>94</td>\n      <td>0</td>\n      <td>1981</td>\n      <td>0</td>\n      <td>25</td>\n    </tr>\n    <tr>\n      <th>...</th>\n      <td>...</td>\n      <td>...</td>\n      <td>...</td>\n      <td>...</td>\n      <td>...</td>\n      <td>...</td>\n      <td>...</td>\n      <td>...</td>\n      <td>...</td>\n      <td>...</td>\n    </tr>\n    <tr>\n      <th>2232</th>\n      <td>2</td>\n      <td>61223.0</td>\n      <td>0</td>\n      <td>3</td>\n      <td>2</td>\n      <td>46</td>\n      <td>1</td>\n      <td>1967</td>\n      <td>0</td>\n      <td>18</td>\n    </tr>\n    <tr>\n      <th>2233</th>\n      <td>4</td>\n      <td>64014.0</td>\n      <td>2</td>\n      <td>2</td>\n      <td>7</td>\n      <td>56</td>\n      <td>1</td>\n      <td>1946</td>\n      <td>1</td>\n      <td>34</td>\n    </tr>\n    <tr>\n      <th>2234</th>\n      <td>2</td>\n      <td>56981.0</td>\n      <td>0</td>\n      <td>1</td>\n      <td>1</td>\n      <td>91</td>\n      <td>0</td>\n      <td>1981</td>\n      <td>4</td>\n      <td>25</td>\n    </tr>\n    <tr>\n      <th>2235</th>\n      <td>3</td>\n      <td>69245.0</td>\n      <td>0</td>\n      <td>2</td>\n      <td>2</td>\n      <td>8</td>\n      <td>1</td>\n      <td>1956</td>\n      <td>0</td>\n      <td>25</td>\n    </tr>\n    <tr>\n      <th>2236</th>\n      <td>4</td>\n      <td>52869.0</td>\n      <td>1</td>\n      <td>3</td>\n      <td>3</td>\n      <td>40</td>\n      <td>1</td>\n      <td>1954</td>\n      <td>0</td>\n      <td>10</td>\n    </tr>\n  </tbody>\n</table>\n<p>2237 rows × 10 columns</p>\n</div>"
     },
     "execution_count": 36,
     "metadata": {},
     "output_type": "execute_result"
    }
   ],
   "source": [
    "data"
   ],
   "metadata": {
    "collapsed": false
   }
  },
  {
   "cell_type": "code",
   "execution_count": 37,
   "outputs": [],
   "source": [
    "arrIncome = np.array(data['Income'])\n",
    "arrIncome = arrIncome.reshape(-1,1)"
   ],
   "metadata": {
    "collapsed": false
   }
  },
  {
   "cell_type": "code",
   "execution_count": 38,
   "outputs": [],
   "source": [
    "scaler = StandardScaler()\n",
    "arrIncome = scaler.fit_transform(arrIncome)"
   ],
   "metadata": {
    "collapsed": false
   }
  },
  {
   "cell_type": "code",
   "execution_count": 39,
   "outputs": [
    {
     "data": {
      "text/plain": "array([[ 0.23570305],\n       [-0.23535011],\n       [ 0.77389547],\n       ...,\n       [ 0.18949239],\n       [ 0.67931739],\n       [ 0.02525884]])"
     },
     "execution_count": 39,
     "metadata": {},
     "output_type": "execute_result"
    }
   ],
   "source": [
    "arrIncome"
   ],
   "metadata": {
    "collapsed": false
   }
  },
  {
   "cell_type": "code",
   "execution_count": 40,
   "outputs": [],
   "source": [
    "data['Income'] = arrIncome"
   ],
   "metadata": {
    "collapsed": false
   }
  },
  {
   "cell_type": "code",
   "execution_count": 41,
   "outputs": [
    {
     "data": {
      "text/plain": "      Education    Income  Kidhome  Marital_Status  NumDealsPurchases  \\\n0             2  0.235703        0               0                  3   \n1             2 -0.235350        1               0                  2   \n2             2  0.773895        0               2                  1   \n3             2 -1.022090        1               2                  2   \n4             4  0.241894        1               3                  5   \n...         ...       ...      ...             ...                ...   \n2232          2  0.358918        0               3                  2   \n2233          4  0.470391        2               2                  7   \n2234          2  0.189492        0               1                  1   \n2235          3  0.679317        0               2                  2   \n2236          4  0.025259        1               3                  3   \n\n      Recency  Teenhome  Year_Birth  Succesful_cmp  Months_After_2012  \n0          58         0        1957              0                  4  \n1          38         1        1954              0                 32  \n2          26         0        1965              0                 20  \n3          26         0        1984              0                 34  \n4          94         0        1981              0                 25  \n...       ...       ...         ...            ...                ...  \n2232       46         1        1967              0                 18  \n2233       56         1        1946              1                 34  \n2234       91         0        1981              4                 25  \n2235        8         1        1956              0                 25  \n2236       40         1        1954              0                 10  \n\n[2237 rows x 10 columns]",
      "text/html": "<div>\n<style scoped>\n    .dataframe tbody tr th:only-of-type {\n        vertical-align: middle;\n    }\n\n    .dataframe tbody tr th {\n        vertical-align: top;\n    }\n\n    .dataframe thead th {\n        text-align: right;\n    }\n</style>\n<table border=\"1\" class=\"dataframe\">\n  <thead>\n    <tr style=\"text-align: right;\">\n      <th></th>\n      <th>Education</th>\n      <th>Income</th>\n      <th>Kidhome</th>\n      <th>Marital_Status</th>\n      <th>NumDealsPurchases</th>\n      <th>Recency</th>\n      <th>Teenhome</th>\n      <th>Year_Birth</th>\n      <th>Succesful_cmp</th>\n      <th>Months_After_2012</th>\n    </tr>\n  </thead>\n  <tbody>\n    <tr>\n      <th>0</th>\n      <td>2</td>\n      <td>0.235703</td>\n      <td>0</td>\n      <td>0</td>\n      <td>3</td>\n      <td>58</td>\n      <td>0</td>\n      <td>1957</td>\n      <td>0</td>\n      <td>4</td>\n    </tr>\n    <tr>\n      <th>1</th>\n      <td>2</td>\n      <td>-0.235350</td>\n      <td>1</td>\n      <td>0</td>\n      <td>2</td>\n      <td>38</td>\n      <td>1</td>\n      <td>1954</td>\n      <td>0</td>\n      <td>32</td>\n    </tr>\n    <tr>\n      <th>2</th>\n      <td>2</td>\n      <td>0.773895</td>\n      <td>0</td>\n      <td>2</td>\n      <td>1</td>\n      <td>26</td>\n      <td>0</td>\n      <td>1965</td>\n      <td>0</td>\n      <td>20</td>\n    </tr>\n    <tr>\n      <th>3</th>\n      <td>2</td>\n      <td>-1.022090</td>\n      <td>1</td>\n      <td>2</td>\n      <td>2</td>\n      <td>26</td>\n      <td>0</td>\n      <td>1984</td>\n      <td>0</td>\n      <td>34</td>\n    </tr>\n    <tr>\n      <th>4</th>\n      <td>4</td>\n      <td>0.241894</td>\n      <td>1</td>\n      <td>3</td>\n      <td>5</td>\n      <td>94</td>\n      <td>0</td>\n      <td>1981</td>\n      <td>0</td>\n      <td>25</td>\n    </tr>\n    <tr>\n      <th>...</th>\n      <td>...</td>\n      <td>...</td>\n      <td>...</td>\n      <td>...</td>\n      <td>...</td>\n      <td>...</td>\n      <td>...</td>\n      <td>...</td>\n      <td>...</td>\n      <td>...</td>\n    </tr>\n    <tr>\n      <th>2232</th>\n      <td>2</td>\n      <td>0.358918</td>\n      <td>0</td>\n      <td>3</td>\n      <td>2</td>\n      <td>46</td>\n      <td>1</td>\n      <td>1967</td>\n      <td>0</td>\n      <td>18</td>\n    </tr>\n    <tr>\n      <th>2233</th>\n      <td>4</td>\n      <td>0.470391</td>\n      <td>2</td>\n      <td>2</td>\n      <td>7</td>\n      <td>56</td>\n      <td>1</td>\n      <td>1946</td>\n      <td>1</td>\n      <td>34</td>\n    </tr>\n    <tr>\n      <th>2234</th>\n      <td>2</td>\n      <td>0.189492</td>\n      <td>0</td>\n      <td>1</td>\n      <td>1</td>\n      <td>91</td>\n      <td>0</td>\n      <td>1981</td>\n      <td>4</td>\n      <td>25</td>\n    </tr>\n    <tr>\n      <th>2235</th>\n      <td>3</td>\n      <td>0.679317</td>\n      <td>0</td>\n      <td>2</td>\n      <td>2</td>\n      <td>8</td>\n      <td>1</td>\n      <td>1956</td>\n      <td>0</td>\n      <td>25</td>\n    </tr>\n    <tr>\n      <th>2236</th>\n      <td>4</td>\n      <td>0.025259</td>\n      <td>1</td>\n      <td>3</td>\n      <td>3</td>\n      <td>40</td>\n      <td>1</td>\n      <td>1954</td>\n      <td>0</td>\n      <td>10</td>\n    </tr>\n  </tbody>\n</table>\n<p>2237 rows × 10 columns</p>\n</div>"
     },
     "execution_count": 41,
     "metadata": {},
     "output_type": "execute_result"
    }
   ],
   "source": [
    "data"
   ],
   "metadata": {
    "collapsed": false
   }
  },
  {
   "cell_type": "code",
   "execution_count": 42,
   "outputs": [],
   "source": [
    "data.to_csv(\"C:/Users/andre/PycharmProjects/MachineLearningOmega/finalSet.csv\", index=False)"
   ],
   "metadata": {
    "collapsed": false
   }
  },
  {
   "cell_type": "code",
   "execution_count": null,
   "outputs": [],
   "source": [],
   "metadata": {
    "collapsed": false
   }
  }
 ],
 "metadata": {
  "kernelspec": {
   "display_name": "Python 3",
   "language": "python",
   "name": "python3"
  },
  "language_info": {
   "codemirror_mode": {
    "name": "ipython",
    "version": 3
   },
   "file_extension": ".py",
   "mimetype": "text/x-python",
   "name": "python",
   "nbconvert_exporter": "python",
   "pygments_lexer": "ipython3",
   "version": "3.8.5"
  },
  "colab": {
   "provenance": []
  }
 },
 "nbformat": 4,
 "nbformat_minor": 0
}
